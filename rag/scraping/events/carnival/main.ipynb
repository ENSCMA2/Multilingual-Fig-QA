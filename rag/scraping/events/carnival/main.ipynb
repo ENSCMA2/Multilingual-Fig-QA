{
 "cells": [
  {
   "cell_type": "code",
   "execution_count": 62,
   "metadata": {},
   "outputs": [],
   "source": [
    "import requests\n",
    "from bs4 import BeautifulSoup\n",
    "import os\n",
    "import re"
   ]
  },
  {
   "cell_type": "code",
   "execution_count": 32,
   "metadata": {},
   "outputs": [],
   "source": [
    "\n",
    "# start copilot\n",
    "# Create a BeautifulSoup object with the HTML content\n",
    "with open(\"in/Schedule - Spring Carnival 2024.html\", \"r\") as file:\n",
    "    html_string = file.read()\n",
    "\n",
    "soup = BeautifulSoup(html_string, \"html.parser\")\n",
    "# end copilot"
   ]
  },
  {
   "cell_type": "code",
   "execution_count": 69,
   "metadata": {},
   "outputs": [],
   "source": [
    "# scraping code by me, file IO initially written by copilot and modified into desired format\n",
    "\n",
    "session_lists = soup.find_all(\"div\", attrs={\"data-cvent-id\": lambda x: x and x.startswith(\"sessions-list-\")}) # filter by lambda copilot\n",
    "\n",
    "for session_list in session_lists[1:]:\n",
    "    date_div = session_list.find(\"div\", attrs={\"role\": \"heading\"})\n",
    "    date = date_div.get_text()\n",
    "\n",
    "    events = session_list.find_all(\"div\", class_='AgendaStyles__sessionContainer___UPslE')\n",
    "\n",
    "    for event in events:\n",
    "        title_div = event.find(\"div\", class_=lambda x: x and x.startswith(\"AgendaStyles__sessionName\")) # filter by lambda copilot\n",
    "        title = title_div.get_text()\n",
    "\n",
    "        time_div = event.find(\"div\", class_=lambda x: x and x.startswith(\"AgendaStyles__rightColumn\"))\n",
    "        time = time_div.get_text()\n",
    "\n",
    "        body_div = event.find(\"div\", class_=lambda x: x and x.startswith(\"AgendaStyles__body\"))\n",
    "        body = body_div.get_text()\n",
    "        \n",
    "        filename = f\"Spring Carnival 2024 event {title} on {date}.txt\"\n",
    "        # Replace characters that can mess up file path with an underscore (regex by copilot)\n",
    "        filename = re.sub(r'[<>:\"/\\\\|?*]', '_', filename)\n",
    "\n",
    "        with open(f'../../../data/events/carnival/{filename}', 'w') as f:\n",
    "            \n",
    "            f.write(f\"Spring Carnival 2024 Event {title}\\n\\n\")\n",
    "            \n",
    "            f.write(f\"Title: {title}\\n\")\n",
    "            f.write(f\"Date: {date}\\n\")\n",
    "            f.write(f\"Time: {time}\\n\")\n",
    "            f.write(f\"\\n\")\n",
    "            f.write(f\"{body}\\n\")\n",
    "            f.write(f\"\\n\")\n"
   ]
  }
 ],
 "metadata": {
  "kernelspec": {
   "display_name": "base",
   "language": "python",
   "name": "python3"
  },
  "language_info": {
   "codemirror_mode": {
    "name": "ipython",
    "version": 3
   },
   "file_extension": ".py",
   "mimetype": "text/x-python",
   "name": "python",
   "nbconvert_exporter": "python",
   "pygments_lexer": "ipython3",
   "version": "3.10.13"
  }
 },
 "nbformat": 4,
 "nbformat_minor": 2
}
