{
 "cells": [
  {
   "cell_type": "code",
   "execution_count": 14,
   "metadata": {},
   "outputs": [],
   "source": [
    "# copilot wrote file IO and line searching\n",
    "import os\n",
    "\n",
    "directory = \"../../data/papers\"\n",
    "\n",
    "for i, filename in enumerate(os.listdir(directory)):\n",
    "    if filename.endswith(\".txt\"):\n",
    "        filepath = os.path.join(directory, filename)\n",
    "        # Perform modifications on the file\n",
    "\n",
    "        with open(filepath, 'r') as file:\n",
    "            lines = file.readlines()\n",
    "            \n",
    "        abstract_lines = [line for line in lines if line.startswith('abstract:')]\n",
    "        if len(abstract_lines) != 0:\n",
    "            abstract_line = abstract_lines[0]\n",
    "            lines.remove(abstract_line)\n",
    "            lines.append(abstract_line)\n",
    "            \n",
    "            title_lines = [line for line in lines if line.startswith('title:')]\n",
    "            if len(title_lines) != 0:\n",
    "                title_line = title_lines[0]\n",
    "            \n",
    "                authors_lines = [line for line in lines if line.startswith('authors:')]\n",
    "                if len(authors_lines) != 0:\n",
    "                    authors_line = authors_lines[0]\n",
    "                    lines.remove(authors_line)\n",
    "                    lines.insert(lines.index(title_line) + 1, authors_line)\n",
    "        \n",
    "        with open(filepath, 'w') as file:\n",
    "            file.write(''.join(lines))\n",
    "                "
   ]
  },
  {
   "cell_type": "code",
   "execution_count": 10,
   "metadata": {},
   "outputs": [
    {
     "data": {
      "text/plain": [
       "['publication venue: International Conference on Multimodal Interaction\\n',\n",
       " 'title: Neural Mixed Effects for Nonlinear Personalized Predictions\\n',\n",
       " 'authors: T. Wörtwein, Nicholas Allen, Lisa B. Sheeber, R. Auerbach, J. Cohn, Louis-Philippe Morency\\n',\n",
       " 'year: 2023\\n',\n",
       " 'tldr: NME combines the efficiency of neural network optimization with nonlinear mixed effects modeling and improves performance across six unimodal and multimodal datasets, including a smartphone dataset to predict daily mood and a mother-adolescent datasets to predict affective state sequences where half the mothers experience symptoms of depression.\\n',\n",
       " 'abstract: Personalized prediction is a machine learning approach that predicts a person’s future observations based on their past labeled observations and is typically used for sequential tasks, e.g., to predict daily mood ratings. When making personalized predictions, a model can combine two types of trends: (a) trends shared across people, i.e., person-generic trends, such as being happier on weekends, and (b) unique trends for each person, i.e., person-specific trends, such as a stressful weekly meeting. Mixed effect models are popular statistical models to study both trends by combining person-generic and person-specific parameters. Though linear mixed effect models are gaining popularity in machine learning by integrating them with neural networks, these integrations are currently limited to linear person-specific parameters: ruling out nonlinear person-specific trends. In this paper, we propose Neural Mixed Effect (NME) models to optimize nonlinear person-specific parameters anywhere in a neural network in a scalable manner1. NME combines the efficiency of neural network optimization with nonlinear mixed effects modeling. Empirically, we observe that NME improves performance across six unimodal and multimodal datasets, including a smartphone dataset to predict daily mood and a mother-adolescent dataset to predict affective state sequences where half the mothers experience symptoms of depression. Furthermore, we evaluate NME for two model architectures, including for neural conditional random fields (CRF) to predict affective state sequences where the CRF learns nonlinear person-specific temporal transitions between affective states. Analysis of these person-specific transitions on the mother-adolescent dataset shows interpretable trends related to the mother’s depression symptoms.\\n']"
      ]
     },
     "execution_count": 10,
     "metadata": {},
     "output_type": "execute_result"
    }
   ],
   "source": [
    "lines"
   ]
  }
 ],
 "metadata": {
  "kernelspec": {
   "display_name": "llama_hw",
   "language": "python",
   "name": "python3"
  },
  "language_info": {
   "codemirror_mode": {
    "name": "ipython",
    "version": 3
   },
   "file_extension": ".py",
   "mimetype": "text/x-python",
   "name": "python",
   "nbconvert_exporter": "python",
   "pygments_lexer": "ipython3",
   "version": "3.11.7"
  }
 },
 "nbformat": 4,
 "nbformat_minor": 2
}
