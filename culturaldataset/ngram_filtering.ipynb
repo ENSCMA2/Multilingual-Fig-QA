{
 "cells": [
  {
   "cell_type": "code",
   "execution_count": 35,
   "metadata": {},
   "outputs": [],
   "source": [
    "from datasets import load_dataset\n",
    "c4_su = load_dataset(\"allenai/c4\", \"su\")\n",
    "c4_su_dev_dict = c4_su.data['validation'].to_pydict()"
   ]
  },
  {
   "cell_type": "code",
   "execution_count": 49,
   "metadata": {},
   "outputs": [],
   "source": [
    "import pandas as pd\n",
    "mabl_su_df = pd.read_csv('../langdata/su.csv')\n",
    "# mabl_su_df = pd.read_csv('../translate-test/su.csv')\n",
    "# mabl_su_df = pd.read_csv('../data/syntax_chunked/syntax_tagged_su.csv')"
   ]
  },
  {
   "cell_type": "code",
   "execution_count": 50,
   "metadata": {},
   "outputs": [
    {
     "data": {
      "text/html": [
       "<div>\n",
       "<style scoped>\n",
       "    .dataframe tbody tr th:only-of-type {\n",
       "        vertical-align: middle;\n",
       "    }\n",
       "\n",
       "    .dataframe tbody tr th {\n",
       "        vertical-align: top;\n",
       "    }\n",
       "\n",
       "    .dataframe thead th {\n",
       "        text-align: right;\n",
       "    }\n",
       "</style>\n",
       "<table border=\"1\" class=\"dataframe\">\n",
       "  <thead>\n",
       "    <tr style=\"text-align: right;\">\n",
       "      <th></th>\n",
       "      <th>ending1</th>\n",
       "      <th>ending2</th>\n",
       "      <th>startphrase</th>\n",
       "      <th>labels</th>\n",
       "    </tr>\n",
       "  </thead>\n",
       "  <tbody>\n",
       "    <tr>\n",
       "      <th>0</th>\n",
       "      <td>hirup kawas kakekang</td>\n",
       "      <td>hirup kawas bebas.</td>\n",
       "      <td>hirup kawas kurung batok</td>\n",
       "      <td>0</td>\n",
       "    </tr>\n",
       "    <tr>\n",
       "      <th>1</th>\n",
       "      <td>hirup kawas kakekang</td>\n",
       "      <td>hirup kawas bebas.</td>\n",
       "      <td>hirup kawas murag bulu bitis.</td>\n",
       "      <td>1</td>\n",
       "    </tr>\n",
       "    <tr>\n",
       "      <th>2</th>\n",
       "      <td>jadi jalma teh kudu rajin</td>\n",
       "      <td>jadi jalma teh kudu kedul.</td>\n",
       "      <td>jadi jalma teh kudu hampang birit</td>\n",
       "      <td>0</td>\n",
       "    </tr>\n",
       "    <tr>\n",
       "      <th>3</th>\n",
       "      <td>jadi jalma teh kudu rajin</td>\n",
       "      <td>jadi jalma teh kudu kedul.</td>\n",
       "      <td>jadi jalma teh kudu beurat birit.</td>\n",
       "      <td>1</td>\n",
       "    </tr>\n",
       "    <tr>\n",
       "      <th>4</th>\n",
       "      <td>mamat lumpat siga gancang</td>\n",
       "      <td>mamat lumpat siga laun.</td>\n",
       "      <td>Mamat lumpatna siga uncal</td>\n",
       "      <td>0</td>\n",
       "    </tr>\n",
       "    <tr>\n",
       "      <th>...</th>\n",
       "      <td>...</td>\n",
       "      <td>...</td>\n",
       "      <td>...</td>\n",
       "      <td>...</td>\n",
       "    </tr>\n",
       "    <tr>\n",
       "      <th>595</th>\n",
       "      <td>Balik sareng mantan mah seru</td>\n",
       "      <td>Balik sareng mantan mah bosen.</td>\n",
       "      <td>Balik deui sareng mantan sapertos nganggo baju...</td>\n",
       "      <td>1</td>\n",
       "    </tr>\n",
       "    <tr>\n",
       "      <th>596</th>\n",
       "      <td>Hubungan jarak jauh pinuh ku rintangan</td>\n",
       "      <td>Hubungan jarak jauh teu aya rintanganana.</td>\n",
       "      <td>Hubungan jarak jauh ibarat arum jeram di sungai</td>\n",
       "      <td>0</td>\n",
       "    </tr>\n",
       "    <tr>\n",
       "      <th>597</th>\n",
       "      <td>Hubungan jarak jauh pinuh ku rintangan</td>\n",
       "      <td>Hubungan jarak jauh teu aya rintanganana.</td>\n",
       "      <td>Hubungan jarak jauh ibarat numpakan kano di ta...</td>\n",
       "      <td>1</td>\n",
       "    </tr>\n",
       "    <tr>\n",
       "      <th>598</th>\n",
       "      <td>Panghina nyieun leuwih getol</td>\n",
       "      <td>Panghina nyieun nelangsa.</td>\n",
       "      <td>Panghina ti batur mah siga kusir keur mecut kuda</td>\n",
       "      <td>0</td>\n",
       "    </tr>\n",
       "    <tr>\n",
       "      <th>599</th>\n",
       "      <td>Panghina nyieun leuwih getol</td>\n",
       "      <td>Panghina nyieun nelangsa.</td>\n",
       "      <td>Panghina ti batur mah siga racun sianida dina ...</td>\n",
       "      <td>1</td>\n",
       "    </tr>\n",
       "  </tbody>\n",
       "</table>\n",
       "<p>600 rows × 4 columns</p>\n",
       "</div>"
      ],
      "text/plain": [
       "                                    ending1  \\\n",
       "0                      hirup kawas kakekang   \n",
       "1                      hirup kawas kakekang   \n",
       "2                 jadi jalma teh kudu rajin   \n",
       "3                 jadi jalma teh kudu rajin   \n",
       "4                 mamat lumpat siga gancang   \n",
       "..                                      ...   \n",
       "595            Balik sareng mantan mah seru   \n",
       "596  Hubungan jarak jauh pinuh ku rintangan   \n",
       "597  Hubungan jarak jauh pinuh ku rintangan   \n",
       "598            Panghina nyieun leuwih getol   \n",
       "599            Panghina nyieun leuwih getol   \n",
       "\n",
       "                                       ending2  \\\n",
       "0                           hirup kawas bebas.   \n",
       "1                           hirup kawas bebas.   \n",
       "2                   jadi jalma teh kudu kedul.   \n",
       "3                   jadi jalma teh kudu kedul.   \n",
       "4                      mamat lumpat siga laun.   \n",
       "..                                         ...   \n",
       "595             Balik sareng mantan mah bosen.   \n",
       "596  Hubungan jarak jauh teu aya rintanganana.   \n",
       "597  Hubungan jarak jauh teu aya rintanganana.   \n",
       "598                  Panghina nyieun nelangsa.   \n",
       "599                  Panghina nyieun nelangsa.   \n",
       "\n",
       "                                           startphrase  labels  \n",
       "0                             hirup kawas kurung batok       0  \n",
       "1                        hirup kawas murag bulu bitis.       1  \n",
       "2                    jadi jalma teh kudu hampang birit       0  \n",
       "3                    jadi jalma teh kudu beurat birit.       1  \n",
       "4                            Mamat lumpatna siga uncal       0  \n",
       "..                                                 ...     ...  \n",
       "595  Balik deui sareng mantan sapertos nganggo baju...       1  \n",
       "596    Hubungan jarak jauh ibarat arum jeram di sungai       0  \n",
       "597  Hubungan jarak jauh ibarat numpakan kano di ta...       1  \n",
       "598   Panghina ti batur mah siga kusir keur mecut kuda       0  \n",
       "599  Panghina ti batur mah siga racun sianida dina ...       1  \n",
       "\n",
       "[600 rows x 4 columns]"
      ]
     },
     "execution_count": 50,
     "metadata": {},
     "output_type": "execute_result"
    }
   ],
   "source": [
    "mabl_su_df"
   ]
  },
  {
   "cell_type": "code",
   "execution_count": 56,
   "metadata": {},
   "outputs": [],
   "source": [
    "start_phrases = mabl_su_df['ending1'].tolist()\n"
   ]
  },
  {
   "cell_type": "code",
   "execution_count": 54,
   "metadata": {},
   "outputs": [],
   "source": [
    "c4_su_toy = c4_su_dev_dict['text']"
   ]
  },
  {
   "cell_type": "code",
   "execution_count": 55,
   "metadata": {},
   "outputs": [
    {
     "data": {
      "text/plain": [
       "['Etas luctus - Linda Naor\\nEtas luctus2014-08-212014-08-21https://lindanaor.com/wp-content/uploads/2019/01/linda-naor-logo.pngLinda Naorhttps://lindanaor.com/wp-content/uploads/2019/01/linda-naor-logo.png200px200px',\n",
       " 'Lukas 9 (MANGGARAI)\\nMori Yésus Wuat Campulu Suad Rasuln (Mat 10:5-15; Mr 6:7-13)\\n1Itu kali Mori Yésus bénta campulu suad rasul, poli hitu téing mberes agu kuasa oné isé, kudut wur jing, agu latang te ina taung sanggéd beti.\\n2Agu hia wuat isé kudut keréba Adak de Mori Keraéng, agu pandé ina ata,\\n3mai taé Diha ngong isé: “Néka ba apa-apa du ngo lako, néka ba do’ar ko bokong, roti ko doi, ko suan baju.\\n4Méu émé poli tiba lata oné ca mbaru, ka’éng nitum dengkir méu angkak nitu mais.\\n5Émé manga ata situt toé gorid te tiba méu, pé’ang oné mai béndar disés, agu péntang kebok wa’is, cama ného te langi isé.”\\n6Itu kali ngod isé, agu isé lako labok taung béo, cang agu wéro keréba di’ad agu pandé ina ata beti néténg tana.\\nHi Hérodés Agu Mori Yésus (Mat 14:1-12; Mr 6:14-29)\\n7Hi Hérodés, raja tana Galiléa, dengé taung situt poli jarid, soang laing liha ai manga taé data, te hi Yohanés polig mosé kolén oné mai ata mata.\\n8Manga kolé taé data iwon, te hi Élias tua koléy gi agu manga kolé taé data iwon, te cengata oné mai sanggéd nabi situ olo poli mosé kolén.\\n9Maik taé di Hérodés: “Hi Yohanés polig laku jera ata poka bokakn. Céing kétay péng Hia ho’o, hitut le taé pandé apa do situ?” Itu kali hia nanang kéta te ngancéng cumang agu Mori Yésus.\\nMori Yésus Cakong Lima Sebu Ata (Mat 14:13-21; Mr 6:30-44; Yoh 6:1-14)\\n10Du koléd rasul-rasul situ, tombo agu Mori Yésus, apa ata poli gori disé; Itu kali Mori Yésus dadé isé, agu hésing nggere-oné ca bendars, ngasangn Bétsaida, wiga hanang isé agu Hia kali ga.\\n11Maik pecings lata do, itu kali lut Hiad. Hia tiba isé, agu tombo taung oné isé latang te Adak de Mori Keraéng; Hia pandé ina kolé isé situt nanang te inas.\\n12Du wangkag wién tana, mais ata nungkun situt campulu sua ngo oné Hia, agu mai taéd: “Jera kolés ata do so’o, kudut isé ngo oné béo-béo léok mai ho’o kudut kawé osang toko agu hangd, ai ité ho’o oné osang lingi-lengot.”\\n13Maik Hia taé agu isé: “Méu paka cakong isé!” Mai walé disé: “Ata manga oné amin, toé dancu oné mai limad roti agu suad ikang, aikn kali émé ami ngo weli hang latang té sanggéd ata do so’o.”\\n14Ai nitu am manga lima sebud ata rona. Maik taé Diha ngong ata nungkun: “Jera lonto bilang liups isé, am limampulu ata ca liup.”\\n15Pandés lata nungkun, agu jera taung ata do situ lontos.\\n16Agu poli emid Liha roti situt lima agu ikang situt sua, Hia conga nggere-éta awangy, wan berkak, poli hitu pu’il roti situ, agu téing oné ata nungku Diha, kudut pati oné lawa do situ.\\n17Agu sanggéd taung isé hang wiga becurd. Poli hitu, ligot taungs ropo roti situt récid, dod campulu sua rotod.\\nTura Di Pétrus (Mat 16:13-20; Mr 8:27-30)\\n18Manga cangkalin du Mori Yésus ngaji hanang koén, mais ata nungkun oné Hia. Itu kali Hia réi isén: “Le taé data do, céingk Aku ho’o?”\\n19Mai walé disé: “Hi Yohanés Cebong, manga kolé ata taé: hi Élias, manga kolé ata taé: cengata oné mai nabi situ médé ata poli to’on.”\\n20Mori Yésus réi isé: “Le méun ga, céingk weli Aku ho’o?” Mai walé di Pétrus: “Hi Mésias oné mai Mori Keraéngn.”\\n21Itug kali Mori Yésus ré’ing kéta isé, kudut isé néka tombo oné céing kaut caro hitu.\\nToi Laring Cain Latang Te Susa De Mori Yésus, Agu Rukun Lorong Hia (Mat 16:21-28; Mr 8:31-9:1)\\n22Mai taé de Mori Yésus: “Anak Manusia paka cukung susa do, agu kémpa le sanggéd tu’a golo, imam kepala agu ata pecing Taurat, poli hitu pakin agu to’o kolé leso te telun.”\\n23Mai taé Diha agu sanggéd isé: “Céing kaut ata nanang te lut Aku, hia paka pali weki run, pola panggoln agu lut Aku.\\n24Ai céing kaut ata ngoéng te mo’eng mosén, hia te mora mosén; maik céing kaut ata mora mosén landing Aku, hia te mo’eng mosén.\\n25Apay di’an, ca ata delék temu tana lino, maik hia pandé copél weki run?\\n26Ai céing kaut ata ritak landing Aku, agu landing curup Daku, Anak Manusia kolé ritak landing ata hituy, du Hia tai mai agu dirapn, agu oné dirap de Eman, agu sanggéd malékat nggeluk.\\n27Aku taé agu méu: Moro matan, oné mai méu ata manga céé ho’o, manga ata toé matad du isé toéd ita Adak de Mori Keraéng.”\\nMori Yésus Bong Éta Pocoy (Mat 17:1-13; Mr 9:2-13)\\n28Am manga alo leso du poli toing situ, Mori Yésus dadé hi Pétrus, Yohanés agu hi Yakobus, ngo nggere-éta pocos te ngaji.\\n29Du hia rémé di’an ngajiN, caling tara rangaN, agu ceca paké Diha bakok silep.\\n30Agu ita sua taus ata gejék agu Hia, hi Musa agu hi Élia.\\n31Isét sua toto wekid dirap, agu curup latang te betuan ngoN hitu te rapak Liha oné Yérusalémy.\\n32Rémé nggitun hi Pétrus agu haé bélan toko lémots, agu du welad, isé ita Mori Yésus néra dirapn; agu isét sua situt hesé ruis Hias.\\n33Agu lété isét sua situ kudut ngos oné mai Mori Yésusd, hi Pétrus taé agu Hia: “Guru, lengn tu’ung di’an mosé dami manga oné osang ho’o. Co’om hesé telun lami sékang, can te Ité, can te hi Musa, agu can te hi Élia.” Maik toé doing le weki run hi Pétrus curupn hitu.\\n34Rémé di’an hia curup nenggitun, tuan rewung tunggem isé. Agu du isé boné rewung hitus, rantangs isé.\\n35Itug kali dengég reweng oné mai rewung hitu, taén: “Ho’oy Anak ata pila Daku, séngét koé Hia.”\\n36Du dengén reweng hitu, itag Mori Yésus hanang koén. Sanggéd ata nungku situ cehay lisé, agu du hitu toéd tombo lisé oné céing kaut, apa situt poli ita liséd.\\nMori Yésus Mbér Jing Da’at; Oné Mai Cengata Anak Koé Ata Betiy (Mat 17:14-21; Mr 9:14-29)\\n37Ného diangn, du kolé éta mai poco hitud, holid maid ata do, cumang Mori Yésus.\\n38Cengata oné mai ata do situ, kepoky mai taén: “Guru, tegi laku kudut Ité lélo koé anak dakut, ai ungkur hitu can kali anakg.\\n39Manga kaut tara tekan hia, pegagar le jingy, agu rodo teka ta’a kaut ciékn; jing hitu wi’u-wa’uk hiay dengkir wusa muing mu’un. Jing hitu pandé séang mtaung hiay, ngo-ngot toé ledo liha.\\n40Agu aku poli tegi agu ata nungku Ditég, kudut lisé koé mbérn jing hitu, maik toé ngancéng lisé.”\\n41Mai taé de Mori Yésus: “Oé méut uwa ho’ot toé imbi agu hitut wéléng, téké capan kolé naisn, Aku paka ka’éng agu méug, agu lembak latang te méug? Dadé cé’éy anakm hitu!”\\n42Du anak koé hitu ruis Mori Yésus, jing da’at hitu péncar hia nggere-wa tana, agu wi’u-wa’ukn liha. Maik Mori Yésus renti da’at jing hitu, agu pandé ina anak koé hituy, poli hitu téing kolé oné eman.\\n43Wiga jenger kéta taungs ata situ landing mésén Mori Keraéng.\\nToi Te Suan Susa De Mori Yésus (Mat 17:22-23; Mr 9:30-32)\\n(9-43b) Lété sanggéd ata situ lenget kid, landing taung situt pandé, Mori Yésus taé agu ata nungkun:\\n44“Séngét di’a-di’a agu idep koés sanggéd curup Daku so’o: Anak Manusia te téing lobo limé de manusiay.”\\n45Isé toé haéng pa’éln curup hitu, ai cehay betuan latang te isé, wiga toé ngancéng pecingn lisé. Agu toé cungd isé te réi betuan curup hitu agu Hia.\\nCéing Ata Céwé Mésén Oné Mai Taung Ata Nungku (Mat 18:1-5; Mr 9:33-37)\\n46Rodo tekan gangga tau oné mai sanggéd taung ata nungku de Mori Yésus, te céing ata céwé mésén oné mai isé.\\n47Maik Mori Yésus pecing nuk disé. Ali hitu, Hia téti cengata anak koé, agu pésék lupi Hiay;\\n48agu mai taéN ngong isé: “Céing kaut ata tiba anak koé ho’o le ngasang Daku, hia tiba Akuy; agu céing ata tiba Akun, ata hitu tiba Hia hitut wuat Akuy. Ai ata koé-kojékn oné mai sanggés méu, hia hituy ata céwé mésén.”\\nCengata, Ata Toé Ata Nungku De Mori Yésus Mbér Jing (Mr 9:38-40)\\n49Mai taé di Yohanés: “Tuang Guru, ami ita cengata ata mbér jing le ngasang Dité, mai ami ré’ing ata hitu, ai hia toé ata ca lakoy agu Ité.”\\n50Mai taé de Mori Yésus ngong hia: “Néka ré’ing le méu, ai céing ata toé lawang méu, hia cecupu mai méuy.”\\nMori Yésus Agu Ata Samaria\\n51Du tiong rapak leson Mori Yésus téti nggere-éta Surgan, Hia mbeler kéta lélon te ngo oné Yérusalém,\\n52agu Hia wuat pisa taus atan pado olo mai Hia. Ngos isé situ, cai oné ca béo data Samaria te kenanu cao-ca latang te Hia.\\n53Maik ata Samaria situ toé ngoéngd te tiba Hia, ai lako Diha te ngo oné Yérusalémy.\\n54Lété ata nungku situ sua, hi Yakobus agu hi Yohanés, ita te ata Samaria toé tiba hia, mai taéd: “Mori, cala gorid Ité, kudut ami jera api wa’u éta mai awang te mempo taung isé?”\\n55Maik Hia holésy agu ré’ing isé.\\n56Itu kali isé ngo oné béo banad.\\nPaté Lorong Mori Yésus (Mat 8:19-22)\\n57Du Mori Yésus agu sanggéd taung ata nungku Diha ruda olo lakod, mai taé de cengata ngong Mori Yésus: “Aku kudut lorong Iték, nia kaut lako Dité.”\\n58Mai taé de Mori Yésus ngong hia: “Serigala manga liangn, agu kaka lélap manga cewon, maik Anak Manusia, lagit manga osang te témba uluN.”\\n59Itu kali mai taé Diha ngong hiat cengata: “Lut Aku!” Maik taé data hitu: “Ondang koék di aku ngo boak emag.”\\n60Maik taé de Mori Yésus ngong hia: “Kongd isét mata boak cama matad; maik hau kali, ngo ga agu tombo Adak de Mori Keraéng nia-nia kaut.”\\n61Agu maig kolé taé dihat cengata: “Aku te lut Iték Mori, maik ondang koék di aku décing agu haé kilog.”\\n62Maik mai taé de Mori Yésus: “Néténg ata situt kudut cau bajakd, maik holés kolé nggere-musis, toé kopd latang te Adak de Mori Keraéng.”',\n",
       " 'January 7, 2012 Archives » SPOT4D.com Malaysia 4D Results - Malaysia 4D Results - Magnum4d 4D & Jackpot, DaMaCai 3D & 1 + 3D,Damacai 6D Jackpot,Big Sweep,Sandakan Turf Club 4D,Sabah 3D,Sabah 4D, Sabah Lotto,STEC Special Cash Sweep,Sports TOTO 4D, 5D, 6D, Mega Jackpot, Power Jackpot, Supreme Jackpot - 马来西亚万字成绩 - 万能,大马彩,多多,大彩,Winning Numbers,Lucky Numbers,幸运号码\\n7 Jan 2012 7 January 2012 – Results (Sat)',\n",
       " 'Wacana Memasukkan Bahaya Merokok di Kurikulum Diskriminatif Dikritisi | Muria News\\nAkrom Hazami / @ 08:35:58 / 31 Agustus 2016',\n",
       " 'On March 26, 2010, 12:01 am\\nHunting Lokasi Reuni : Restaurant Canang Sari »\\n« 4 TIPS Aman Internet-an melalui WarNET\\nTags: MangupuraPuspem Badung']"
      ]
     },
     "execution_count": 55,
     "metadata": {},
     "output_type": "execute_result"
    }
   ],
   "source": [
    "c4_su_dev_dict['text'][:5]"
   ]
  },
  {
   "cell_type": "markdown",
   "metadata": {},
   "source": [
    "### matching"
   ]
  },
  {
   "cell_type": "code",
   "execution_count": 58,
   "metadata": {},
   "outputs": [],
   "source": [
    "queries = start_phrases[:5]\n",
    "example_pool = c4_su_dev_dict['text'][:10]"
   ]
  },
  {
   "cell_type": "code",
   "execution_count": 73,
   "metadata": {},
   "outputs": [
    {
     "name": "stdout",
     "output_type": "stream",
     "text": [
      "Relevant texts for query 'sample text': []\n",
      "Relevant texts for query 'unrelated topic': []\n"
     ]
    }
   ],
   "source": [
    "import nltk\n",
    "\n",
    "def calculate_ngram_overlap(text, query, n=2):\n",
    "  \"\"\"\n",
    "  Calculates the n-gram overlap between a text and a query.\n",
    "  \"\"\"\n",
    "  text_ngrams = set(nltk.ngrams(text.split(), n))\n",
    "  query_ngrams = set(nltk.ngrams(query.split(), n))\n",
    "  overlap = len(text_ngrams & query_ngrams) / len(query_ngrams)\n",
    "  return overlap\n",
    "\n",
    "# Example usage\n",
    "corpus = [\"This is a sample text.\", \"Another example sentence.\", \"This text is unrelated.\"]\n",
    "queries = [\"sample text\", \"unrelated topic\"]\n",
    "\n",
    "for query in queries:\n",
    "  relevant_texts = [text for text in corpus if calculate_ngram_overlap(text, query) > 0.1]\n",
    "  print(f\"Relevant texts for query '{query}': {relevant_texts}\")"
   ]
  },
  {
   "cell_type": "code",
   "execution_count": 82,
   "metadata": {},
   "outputs": [
    {
     "data": {
      "text/plain": [
       "0.3333333333333333"
      ]
     },
     "execution_count": 82,
     "metadata": {},
     "output_type": "execute_result"
    }
   ],
   "source": [
    "calculate_ngram_overlap(\"hi\", \"hi this is\", 1)"
   ]
  },
  {
   "cell_type": "markdown",
   "metadata": {},
   "source": [
    "### try langchain"
   ]
  },
  {
   "cell_type": "code",
   "execution_count": 130,
   "metadata": {},
   "outputs": [
    {
     "name": "stdout",
     "output_type": "stream",
     "text": [
      "[-0.999, 0.0, -0.999]\n"
     ]
    },
    {
     "data": {
      "text/plain": [
       "['Spot can run.', 'See Spot run.']"
      ]
     },
     "execution_count": 130,
     "metadata": {},
     "output_type": "execute_result"
    }
   ],
   "source": [
    "from langchain.prompts.example_selector.ngram_overlap import ngram_overlap_score\n",
    "import numpy as np\n",
    " \n",
    "# based on langchain\n",
    "def select_examples(query: str, example_pool: list[str], threshold = -1.0) -> list[dict]:\n",
    "    selected_examples = []\n",
    "    k = len(example_pool)\n",
    "    score = [0.0] * k\n",
    "\n",
    "    for i in range(k):\n",
    "        score[i] = ngram_overlap_score(\n",
    "            [query], [example_pool[i]]\n",
    "        )\n",
    "\n",
    "    while True:\n",
    "        arg_max = np.argmax(score)\n",
    "        if (score[arg_max] < threshold) or abs(\n",
    "            score[arg_max] - threshold\n",
    "        ) < 1e-9:\n",
    "            break\n",
    "\n",
    "        selected_examples.append(example_pool[arg_max])\n",
    "        score[arg_max] = threshold - 1.0\n",
    "    print(score)\n",
    "\n",
    "    return selected_examples\n",
    "\n",
    "select_examples(\n",
    "    query = \"Spot can run fast.\", \n",
    "    example_pool = [\"See Spot run.\", \"My dog barks.\", \"Spot can run.\"],\n",
    "    threshold=0.001\n",
    ")"
   ]
  }
 ],
 "metadata": {
  "kernelspec": {
   "display_name": "multi",
   "language": "python",
   "name": "python3"
  },
  "language_info": {
   "codemirror_mode": {
    "name": "ipython",
    "version": 3
   },
   "file_extension": ".py",
   "mimetype": "text/x-python",
   "name": "python",
   "nbconvert_exporter": "python",
   "pygments_lexer": "ipython3",
   "version": "3.10.8"
  }
 },
 "nbformat": 4,
 "nbformat_minor": 2
}
