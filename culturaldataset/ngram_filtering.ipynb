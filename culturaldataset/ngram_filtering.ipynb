{
 "cells": [
  {
   "cell_type": "code",
   "execution_count": 1,
   "metadata": {},
   "outputs": [
    {
     "name": "stderr",
     "output_type": "stream",
     "text": [
      "/Users/chaosarium/anaconda3/envs/multi/lib/python3.10/site-packages/tqdm/auto.py:21: TqdmWarning: IProgress not found. Please update jupyter and ipywidgets. See https://ipywidgets.readthedocs.io/en/stable/user_install.html\n",
      "  from .autonotebook import tqdm as notebook_tqdm\n"
     ]
    }
   ],
   "source": [
    "from datasets import load_dataset\n",
    "import pandas as pd\n",
    "from rank_bm25 import BM25Okapi\n",
    "import numpy as np\n",
    "from tqdm import tqdm\n",
    "LANG_CODE = 'su'\n",
    "from rouge_score import rouge_scorer\n",
    "import nltk\n",
    "nltk.download('punkt')\n",
    "\n",
    "c4 = load_dataset(\"allenai/c4\", LANG_CODE)\n",
    "c4_dev_dict = c4.data['validation'].to_pydict()\n",
    "c4_train_dict = c4.data['train'].to_pydict()"
   ]
  },
  {
   "cell_type": "code",
   "execution_count": 2,
   "metadata": {},
   "outputs": [],
   "source": [
    "mabl_df = pd.read_csv(f'../langdata/{LANG_CODE}.csv')\n",
    "# mabl_su_df = pd.read_csv('../translate-test/su.csv')\n",
    "# mabl_su_df = pd.read_csv('../data/syntax_chunked/syntax_tagged_su.csv')"
   ]
  },
  {
   "cell_type": "code",
   "execution_count": 3,
   "metadata": {},
   "outputs": [
    {
     "data": {
      "text/html": [
       "<div>\n",
       "<style scoped>\n",
       "    .dataframe tbody tr th:only-of-type {\n",
       "        vertical-align: middle;\n",
       "    }\n",
       "\n",
       "    .dataframe tbody tr th {\n",
       "        vertical-align: top;\n",
       "    }\n",
       "\n",
       "    .dataframe thead th {\n",
       "        text-align: right;\n",
       "    }\n",
       "</style>\n",
       "<table border=\"1\" class=\"dataframe\">\n",
       "  <thead>\n",
       "    <tr style=\"text-align: right;\">\n",
       "      <th></th>\n",
       "      <th>ending1</th>\n",
       "      <th>ending2</th>\n",
       "      <th>startphrase</th>\n",
       "      <th>labels</th>\n",
       "    </tr>\n",
       "  </thead>\n",
       "  <tbody>\n",
       "    <tr>\n",
       "      <th>0</th>\n",
       "      <td>hirup kawas kakekang</td>\n",
       "      <td>hirup kawas bebas.</td>\n",
       "      <td>hirup kawas kurung batok</td>\n",
       "      <td>0</td>\n",
       "    </tr>\n",
       "    <tr>\n",
       "      <th>1</th>\n",
       "      <td>hirup kawas kakekang</td>\n",
       "      <td>hirup kawas bebas.</td>\n",
       "      <td>hirup kawas murag bulu bitis.</td>\n",
       "      <td>1</td>\n",
       "    </tr>\n",
       "    <tr>\n",
       "      <th>2</th>\n",
       "      <td>jadi jalma teh kudu rajin</td>\n",
       "      <td>jadi jalma teh kudu kedul.</td>\n",
       "      <td>jadi jalma teh kudu hampang birit</td>\n",
       "      <td>0</td>\n",
       "    </tr>\n",
       "    <tr>\n",
       "      <th>3</th>\n",
       "      <td>jadi jalma teh kudu rajin</td>\n",
       "      <td>jadi jalma teh kudu kedul.</td>\n",
       "      <td>jadi jalma teh kudu beurat birit.</td>\n",
       "      <td>1</td>\n",
       "    </tr>\n",
       "    <tr>\n",
       "      <th>4</th>\n",
       "      <td>mamat lumpat siga gancang</td>\n",
       "      <td>mamat lumpat siga laun.</td>\n",
       "      <td>Mamat lumpatna siga uncal</td>\n",
       "      <td>0</td>\n",
       "    </tr>\n",
       "    <tr>\n",
       "      <th>...</th>\n",
       "      <td>...</td>\n",
       "      <td>...</td>\n",
       "      <td>...</td>\n",
       "      <td>...</td>\n",
       "    </tr>\n",
       "    <tr>\n",
       "      <th>595</th>\n",
       "      <td>Balik sareng mantan mah seru</td>\n",
       "      <td>Balik sareng mantan mah bosen.</td>\n",
       "      <td>Balik deui sareng mantan sapertos nganggo baju...</td>\n",
       "      <td>1</td>\n",
       "    </tr>\n",
       "    <tr>\n",
       "      <th>596</th>\n",
       "      <td>Hubungan jarak jauh pinuh ku rintangan</td>\n",
       "      <td>Hubungan jarak jauh teu aya rintanganana.</td>\n",
       "      <td>Hubungan jarak jauh ibarat arum jeram di sungai</td>\n",
       "      <td>0</td>\n",
       "    </tr>\n",
       "    <tr>\n",
       "      <th>597</th>\n",
       "      <td>Hubungan jarak jauh pinuh ku rintangan</td>\n",
       "      <td>Hubungan jarak jauh teu aya rintanganana.</td>\n",
       "      <td>Hubungan jarak jauh ibarat numpakan kano di ta...</td>\n",
       "      <td>1</td>\n",
       "    </tr>\n",
       "    <tr>\n",
       "      <th>598</th>\n",
       "      <td>Panghina nyieun leuwih getol</td>\n",
       "      <td>Panghina nyieun nelangsa.</td>\n",
       "      <td>Panghina ti batur mah siga kusir keur mecut kuda</td>\n",
       "      <td>0</td>\n",
       "    </tr>\n",
       "    <tr>\n",
       "      <th>599</th>\n",
       "      <td>Panghina nyieun leuwih getol</td>\n",
       "      <td>Panghina nyieun nelangsa.</td>\n",
       "      <td>Panghina ti batur mah siga racun sianida dina ...</td>\n",
       "      <td>1</td>\n",
       "    </tr>\n",
       "  </tbody>\n",
       "</table>\n",
       "<p>600 rows × 4 columns</p>\n",
       "</div>"
      ],
      "text/plain": [
       "                                    ending1  \\\n",
       "0                      hirup kawas kakekang   \n",
       "1                      hirup kawas kakekang   \n",
       "2                 jadi jalma teh kudu rajin   \n",
       "3                 jadi jalma teh kudu rajin   \n",
       "4                 mamat lumpat siga gancang   \n",
       "..                                      ...   \n",
       "595            Balik sareng mantan mah seru   \n",
       "596  Hubungan jarak jauh pinuh ku rintangan   \n",
       "597  Hubungan jarak jauh pinuh ku rintangan   \n",
       "598            Panghina nyieun leuwih getol   \n",
       "599            Panghina nyieun leuwih getol   \n",
       "\n",
       "                                       ending2  \\\n",
       "0                           hirup kawas bebas.   \n",
       "1                           hirup kawas bebas.   \n",
       "2                   jadi jalma teh kudu kedul.   \n",
       "3                   jadi jalma teh kudu kedul.   \n",
       "4                      mamat lumpat siga laun.   \n",
       "..                                         ...   \n",
       "595             Balik sareng mantan mah bosen.   \n",
       "596  Hubungan jarak jauh teu aya rintanganana.   \n",
       "597  Hubungan jarak jauh teu aya rintanganana.   \n",
       "598                  Panghina nyieun nelangsa.   \n",
       "599                  Panghina nyieun nelangsa.   \n",
       "\n",
       "                                           startphrase  labels  \n",
       "0                             hirup kawas kurung batok       0  \n",
       "1                        hirup kawas murag bulu bitis.       1  \n",
       "2                    jadi jalma teh kudu hampang birit       0  \n",
       "3                    jadi jalma teh kudu beurat birit.       1  \n",
       "4                            Mamat lumpatna siga uncal       0  \n",
       "..                                                 ...     ...  \n",
       "595  Balik deui sareng mantan sapertos nganggo baju...       1  \n",
       "596    Hubungan jarak jauh ibarat arum jeram di sungai       0  \n",
       "597  Hubungan jarak jauh ibarat numpakan kano di ta...       1  \n",
       "598   Panghina ti batur mah siga kusir keur mecut kuda       0  \n",
       "599  Panghina ti batur mah siga racun sianida dina ...       1  \n",
       "\n",
       "[600 rows x 4 columns]"
      ]
     },
     "execution_count": 3,
     "metadata": {},
     "output_type": "execute_result"
    }
   ],
   "source": [
    "mabl_df"
   ]
  },
  {
   "cell_type": "code",
   "execution_count": 28,
   "metadata": {},
   "outputs": [],
   "source": [
    "start_phrases = mabl_df['startphrase'].tolist()\n",
    "ending1s = mabl_df['ending1'].tolist()\n",
    "ending2s = mabl_df['ending2'].tolist()"
   ]
  },
  {
   "cell_type": "code",
   "execution_count": 34,
   "metadata": {},
   "outputs": [],
   "source": [
    "figqa_examples = list(map(lambda tri: f\"{tri[0]} {tri[1]} {tri[2]}\".replace(\".\", \"\").replace(\",\", \"\"), zip(start_phrases, ending1s, ending2s)))"
   ]
  },
  {
   "cell_type": "code",
   "execution_count": 35,
   "metadata": {},
   "outputs": [
    {
     "data": {
      "text/plain": [
       "['Etas luctus - Linda Naor\\nEtas luctus2014-08-212014-08-21https://lindanaor.com/wp-content/uploads/2019/01/linda-naor-logo.pngLinda Naorhttps://lindanaor.com/wp-content/uploads/2019/01/linda-naor-logo.png200px200px',\n",
       " 'Lukas 9 (MANGGARAI)\\nMori Yésus Wuat Campulu Suad Rasuln (Mat 10:5-15; Mr 6:7-13)\\n1Itu kali Mori Yésus bénta campulu suad rasul, poli hitu téing mberes agu kuasa oné isé, kudut wur jing, agu latang te ina taung sanggéd beti.\\n2Agu hia wuat isé kudut keréba Adak de Mori Keraéng, agu pandé ina ata,\\n3mai taé Diha ngong isé: “Néka ba apa-apa du ngo lako, néka ba do’ar ko bokong, roti ko doi, ko suan baju.\\n4Méu émé poli tiba lata oné ca mbaru, ka’éng nitum dengkir méu angkak nitu mais.\\n5Émé manga ata situt toé gorid te tiba méu, pé’ang oné mai béndar disés, agu péntang kebok wa’is, cama ného te langi isé.”\\n6Itu kali ngod isé, agu isé lako labok taung béo, cang agu wéro keréba di’ad agu pandé ina ata beti néténg tana.\\nHi Hérodés Agu Mori Yésus (Mat 14:1-12; Mr 6:14-29)\\n7Hi Hérodés, raja tana Galiléa, dengé taung situt poli jarid, soang laing liha ai manga taé data, te hi Yohanés polig mosé kolén oné mai ata mata.\\n8Manga kolé taé data iwon, te hi Élias tua koléy gi agu manga kolé taé data iwon, te cengata oné mai sanggéd nabi situ olo poli mosé kolén.\\n9Maik taé di Hérodés: “Hi Yohanés polig laku jera ata poka bokakn. Céing kétay péng Hia ho’o, hitut le taé pandé apa do situ?” Itu kali hia nanang kéta te ngancéng cumang agu Mori Yésus.\\nMori Yésus Cakong Lima Sebu Ata (Mat 14:13-21; Mr 6:30-44; Yoh 6:1-14)\\n10Du koléd rasul-rasul situ, tombo agu Mori Yésus, apa ata poli gori disé; Itu kali Mori Yésus dadé isé, agu hésing nggere-oné ca bendars, ngasangn Bétsaida, wiga hanang isé agu Hia kali ga.\\n11Maik pecings lata do, itu kali lut Hiad. Hia tiba isé, agu tombo taung oné isé latang te Adak de Mori Keraéng; Hia pandé ina kolé isé situt nanang te inas.\\n12Du wangkag wién tana, mais ata nungkun situt campulu sua ngo oné Hia, agu mai taéd: “Jera kolés ata do so’o, kudut isé ngo oné béo-béo léok mai ho’o kudut kawé osang toko agu hangd, ai ité ho’o oné osang lingi-lengot.”\\n13Maik Hia taé agu isé: “Méu paka cakong isé!” Mai walé disé: “Ata manga oné amin, toé dancu oné mai limad roti agu suad ikang, aikn kali émé ami ngo weli hang latang té sanggéd ata do so’o.”\\n14Ai nitu am manga lima sebud ata rona. Maik taé Diha ngong ata nungkun: “Jera lonto bilang liups isé, am limampulu ata ca liup.”\\n15Pandés lata nungkun, agu jera taung ata do situ lontos.\\n16Agu poli emid Liha roti situt lima agu ikang situt sua, Hia conga nggere-éta awangy, wan berkak, poli hitu pu’il roti situ, agu téing oné ata nungku Diha, kudut pati oné lawa do situ.\\n17Agu sanggéd taung isé hang wiga becurd. Poli hitu, ligot taungs ropo roti situt récid, dod campulu sua rotod.\\nTura Di Pétrus (Mat 16:13-20; Mr 8:27-30)\\n18Manga cangkalin du Mori Yésus ngaji hanang koén, mais ata nungkun oné Hia. Itu kali Hia réi isén: “Le taé data do, céingk Aku ho’o?”\\n19Mai walé disé: “Hi Yohanés Cebong, manga kolé ata taé: hi Élias, manga kolé ata taé: cengata oné mai nabi situ médé ata poli to’on.”\\n20Mori Yésus réi isé: “Le méun ga, céingk weli Aku ho’o?” Mai walé di Pétrus: “Hi Mésias oné mai Mori Keraéngn.”\\n21Itug kali Mori Yésus ré’ing kéta isé, kudut isé néka tombo oné céing kaut caro hitu.\\nToi Laring Cain Latang Te Susa De Mori Yésus, Agu Rukun Lorong Hia (Mat 16:21-28; Mr 8:31-9:1)\\n22Mai taé de Mori Yésus: “Anak Manusia paka cukung susa do, agu kémpa le sanggéd tu’a golo, imam kepala agu ata pecing Taurat, poli hitu pakin agu to’o kolé leso te telun.”\\n23Mai taé Diha agu sanggéd isé: “Céing kaut ata nanang te lut Aku, hia paka pali weki run, pola panggoln agu lut Aku.\\n24Ai céing kaut ata ngoéng te mo’eng mosén, hia te mora mosén; maik céing kaut ata mora mosén landing Aku, hia te mo’eng mosén.\\n25Apay di’an, ca ata delék temu tana lino, maik hia pandé copél weki run?\\n26Ai céing kaut ata ritak landing Aku, agu landing curup Daku, Anak Manusia kolé ritak landing ata hituy, du Hia tai mai agu dirapn, agu oné dirap de Eman, agu sanggéd malékat nggeluk.\\n27Aku taé agu méu: Moro matan, oné mai méu ata manga céé ho’o, manga ata toé matad du isé toéd ita Adak de Mori Keraéng.”\\nMori Yésus Bong Éta Pocoy (Mat 17:1-13; Mr 9:2-13)\\n28Am manga alo leso du poli toing situ, Mori Yésus dadé hi Pétrus, Yohanés agu hi Yakobus, ngo nggere-éta pocos te ngaji.\\n29Du hia rémé di’an ngajiN, caling tara rangaN, agu ceca paké Diha bakok silep.\\n30Agu ita sua taus ata gejék agu Hia, hi Musa agu hi Élia.\\n31Isét sua toto wekid dirap, agu curup latang te betuan ngoN hitu te rapak Liha oné Yérusalémy.\\n32Rémé nggitun hi Pétrus agu haé bélan toko lémots, agu du welad, isé ita Mori Yésus néra dirapn; agu isét sua situt hesé ruis Hias.\\n33Agu lété isét sua situ kudut ngos oné mai Mori Yésusd, hi Pétrus taé agu Hia: “Guru, lengn tu’ung di’an mosé dami manga oné osang ho’o. Co’om hesé telun lami sékang, can te Ité, can te hi Musa, agu can te hi Élia.” Maik toé doing le weki run hi Pétrus curupn hitu.\\n34Rémé di’an hia curup nenggitun, tuan rewung tunggem isé. Agu du isé boné rewung hitus, rantangs isé.\\n35Itug kali dengég reweng oné mai rewung hitu, taén: “Ho’oy Anak ata pila Daku, séngét koé Hia.”\\n36Du dengén reweng hitu, itag Mori Yésus hanang koén. Sanggéd ata nungku situ cehay lisé, agu du hitu toéd tombo lisé oné céing kaut, apa situt poli ita liséd.\\nMori Yésus Mbér Jing Da’at; Oné Mai Cengata Anak Koé Ata Betiy (Mat 17:14-21; Mr 9:14-29)\\n37Ného diangn, du kolé éta mai poco hitud, holid maid ata do, cumang Mori Yésus.\\n38Cengata oné mai ata do situ, kepoky mai taén: “Guru, tegi laku kudut Ité lélo koé anak dakut, ai ungkur hitu can kali anakg.\\n39Manga kaut tara tekan hia, pegagar le jingy, agu rodo teka ta’a kaut ciékn; jing hitu wi’u-wa’uk hiay dengkir wusa muing mu’un. Jing hitu pandé séang mtaung hiay, ngo-ngot toé ledo liha.\\n40Agu aku poli tegi agu ata nungku Ditég, kudut lisé koé mbérn jing hitu, maik toé ngancéng lisé.”\\n41Mai taé de Mori Yésus: “Oé méut uwa ho’ot toé imbi agu hitut wéléng, téké capan kolé naisn, Aku paka ka’éng agu méug, agu lembak latang te méug? Dadé cé’éy anakm hitu!”\\n42Du anak koé hitu ruis Mori Yésus, jing da’at hitu péncar hia nggere-wa tana, agu wi’u-wa’ukn liha. Maik Mori Yésus renti da’at jing hitu, agu pandé ina anak koé hituy, poli hitu téing kolé oné eman.\\n43Wiga jenger kéta taungs ata situ landing mésén Mori Keraéng.\\nToi Te Suan Susa De Mori Yésus (Mat 17:22-23; Mr 9:30-32)\\n(9-43b) Lété sanggéd ata situ lenget kid, landing taung situt pandé, Mori Yésus taé agu ata nungkun:\\n44“Séngét di’a-di’a agu idep koés sanggéd curup Daku so’o: Anak Manusia te téing lobo limé de manusiay.”\\n45Isé toé haéng pa’éln curup hitu, ai cehay betuan latang te isé, wiga toé ngancéng pecingn lisé. Agu toé cungd isé te réi betuan curup hitu agu Hia.\\nCéing Ata Céwé Mésén Oné Mai Taung Ata Nungku (Mat 18:1-5; Mr 9:33-37)\\n46Rodo tekan gangga tau oné mai sanggéd taung ata nungku de Mori Yésus, te céing ata céwé mésén oné mai isé.\\n47Maik Mori Yésus pecing nuk disé. Ali hitu, Hia téti cengata anak koé, agu pésék lupi Hiay;\\n48agu mai taéN ngong isé: “Céing kaut ata tiba anak koé ho’o le ngasang Daku, hia tiba Akuy; agu céing ata tiba Akun, ata hitu tiba Hia hitut wuat Akuy. Ai ata koé-kojékn oné mai sanggés méu, hia hituy ata céwé mésén.”\\nCengata, Ata Toé Ata Nungku De Mori Yésus Mbér Jing (Mr 9:38-40)\\n49Mai taé di Yohanés: “Tuang Guru, ami ita cengata ata mbér jing le ngasang Dité, mai ami ré’ing ata hitu, ai hia toé ata ca lakoy agu Ité.”\\n50Mai taé de Mori Yésus ngong hia: “Néka ré’ing le méu, ai céing ata toé lawang méu, hia cecupu mai méuy.”\\nMori Yésus Agu Ata Samaria\\n51Du tiong rapak leson Mori Yésus téti nggere-éta Surgan, Hia mbeler kéta lélon te ngo oné Yérusalém,\\n52agu Hia wuat pisa taus atan pado olo mai Hia. Ngos isé situ, cai oné ca béo data Samaria te kenanu cao-ca latang te Hia.\\n53Maik ata Samaria situ toé ngoéngd te tiba Hia, ai lako Diha te ngo oné Yérusalémy.\\n54Lété ata nungku situ sua, hi Yakobus agu hi Yohanés, ita te ata Samaria toé tiba hia, mai taéd: “Mori, cala gorid Ité, kudut ami jera api wa’u éta mai awang te mempo taung isé?”\\n55Maik Hia holésy agu ré’ing isé.\\n56Itu kali isé ngo oné béo banad.\\nPaté Lorong Mori Yésus (Mat 8:19-22)\\n57Du Mori Yésus agu sanggéd taung ata nungku Diha ruda olo lakod, mai taé de cengata ngong Mori Yésus: “Aku kudut lorong Iték, nia kaut lako Dité.”\\n58Mai taé de Mori Yésus ngong hia: “Serigala manga liangn, agu kaka lélap manga cewon, maik Anak Manusia, lagit manga osang te témba uluN.”\\n59Itu kali mai taé Diha ngong hiat cengata: “Lut Aku!” Maik taé data hitu: “Ondang koék di aku ngo boak emag.”\\n60Maik taé de Mori Yésus ngong hia: “Kongd isét mata boak cama matad; maik hau kali, ngo ga agu tombo Adak de Mori Keraéng nia-nia kaut.”\\n61Agu maig kolé taé dihat cengata: “Aku te lut Iték Mori, maik ondang koék di aku décing agu haé kilog.”\\n62Maik mai taé de Mori Yésus: “Néténg ata situt kudut cau bajakd, maik holés kolé nggere-musis, toé kopd latang te Adak de Mori Keraéng.”',\n",
       " 'January 7, 2012 Archives » SPOT4D.com Malaysia 4D Results - Malaysia 4D Results - Magnum4d 4D & Jackpot, DaMaCai 3D & 1 + 3D,Damacai 6D Jackpot,Big Sweep,Sandakan Turf Club 4D,Sabah 3D,Sabah 4D, Sabah Lotto,STEC Special Cash Sweep,Sports TOTO 4D, 5D, 6D, Mega Jackpot, Power Jackpot, Supreme Jackpot - 马来西亚万字成绩 - 万能,大马彩,多多,大彩,Winning Numbers,Lucky Numbers,幸运号码\\n7 Jan 2012 7 January 2012 – Results (Sat)',\n",
       " 'Wacana Memasukkan Bahaya Merokok di Kurikulum Diskriminatif Dikritisi | Muria News\\nAkrom Hazami / @ 08:35:58 / 31 Agustus 2016',\n",
       " 'On March 26, 2010, 12:01 am\\nHunting Lokasi Reuni : Restaurant Canang Sari »\\n« 4 TIPS Aman Internet-an melalui WarNET\\nTags: MangupuraPuspem Badung']"
      ]
     },
     "execution_count": 35,
     "metadata": {},
     "output_type": "execute_result"
    }
   ],
   "source": [
    "c4_dev_dict['text'][:5]"
   ]
  },
  {
   "cell_type": "markdown",
   "metadata": {},
   "source": [
    "## General"
   ]
  },
  {
   "cell_type": "code",
   "execution_count": 36,
   "metadata": {},
   "outputs": [
    {
     "data": {
      "text/plain": [
       "['hirup',\n",
       " 'teh',\n",
       " 'kudu',\n",
       " 'boga',\n",
       " 'pamadeugan',\n",
       " 'hirup',\n",
       " 'teh',\n",
       " 'kudu',\n",
       " 'boga',\n",
       " 'pendirian',\n",
       " 'hirup',\n",
       " 'teh',\n",
       " 'kudu',\n",
       " 'boga',\n",
       " 'plin-plan']"
      ]
     },
     "execution_count": 36,
     "metadata": {},
     "output_type": "execute_result"
    }
   ],
   "source": [
    "def tokenize(text: str, lang: str):\n",
    "    # nlp = stanza.Pipeline(lang=lang, processors='tokenize', tokenize_no_ssplit=True)\n",
    "    return nltk.word_tokenize(text, language=lang, preserve_line=True)\n",
    "\n",
    "tokenize(figqa_examples[6], LANG_CODE)"
   ]
  },
  {
   "cell_type": "code",
   "execution_count": 37,
   "metadata": {},
   "outputs": [],
   "source": [
    "queries = figqa_examples[:100]\n",
    "example_pool = c4_train_dict['text'][:70]\n",
    "tokenized_example_pool = [tokenize(text, LANG_CODE) for text in example_pool]\n",
    "tokenized_queries = [tokenize(text, LANG_CODE) for text in queries]"
   ]
  },
  {
   "cell_type": "markdown",
   "metadata": {},
   "source": [
    "## BM25 example selection"
   ]
  },
  {
   "cell_type": "code",
   "execution_count": 38,
   "metadata": {},
   "outputs": [
    {
     "name": "stderr",
     "output_type": "stream",
     "text": [
      "100it [00:00, 2779.42it/s]\n"
     ]
    },
    {
     "data": {
      "text/plain": [
       "array([3.72148061e-01, 8.09862813e+00, 0.00000000e+00, 3.96563336e+00,\n",
       "       1.63575173e+00, 0.00000000e+00, 0.00000000e+00, 0.00000000e+00,\n",
       "       0.00000000e+00, 0.00000000e+00, 0.00000000e+00, 2.58250985e-02,\n",
       "       0.00000000e+00, 0.00000000e+00, 1.46561395e+01, 0.00000000e+00,\n",
       "       0.00000000e+00, 1.27043616e+01, 0.00000000e+00, 1.38359198e+01,\n",
       "       3.87642049e+00, 0.00000000e+00, 0.00000000e+00, 0.00000000e+00,\n",
       "       0.00000000e+00, 2.01438910e+01, 0.00000000e+00, 0.00000000e+00,\n",
       "       1.37442875e+01, 1.87529446e+00, 0.00000000e+00, 3.21989907e+01,\n",
       "       9.69102975e-02, 0.00000000e+00, 0.00000000e+00, 0.00000000e+00,\n",
       "       5.06898356e-01, 0.00000000e+00, 1.47862807e+01, 1.73997800e-01,\n",
       "       0.00000000e+00, 0.00000000e+00, 3.09060069e-02, 0.00000000e+00,\n",
       "       0.00000000e+00, 6.95504257e-01, 0.00000000e+00, 0.00000000e+00,\n",
       "       0.00000000e+00, 2.40946194e+01, 0.00000000e+00, 0.00000000e+00,\n",
       "       0.00000000e+00, 0.00000000e+00, 3.01676939e+01, 0.00000000e+00,\n",
       "       0.00000000e+00, 1.22599786e+00, 0.00000000e+00, 5.40961890e-01,\n",
       "       5.59497533e+00, 1.79647572e-01, 0.00000000e+00, 3.70874543e-01,\n",
       "       0.00000000e+00, 0.00000000e+00, 0.00000000e+00, 0.00000000e+00,\n",
       "       0.00000000e+00, 0.00000000e+00])"
      ]
     },
     "execution_count": 38,
     "metadata": {},
     "output_type": "execute_result"
    }
   ],
   "source": [
    "def bm25_score_docs(tokenized_queries: list[list[str]], tokenized_example_pool: list[list[str]]):\n",
    "    scores_acc = np.zeros(len(tokenized_example_pool))\n",
    "    bm25 = BM25Okapi(tokenized_example_pool)\n",
    "    for i, tokenized_query in tqdm(enumerate(tokenized_queries)):\n",
    "        scores_acc += bm25.get_scores(tokenized_query)\n",
    "    scores_acc /= len(tokenized_example_pool)\n",
    "    return scores_acc\n",
    "\n",
    "bm25_score_docs(tokenized_queries, tokenized_example_pool)"
   ]
  },
  {
   "cell_type": "markdown",
   "metadata": {},
   "source": [
    "## Filtering by similarity metric"
   ]
  },
  {
   "cell_type": "code",
   "execution_count": 39,
   "metadata": {},
   "outputs": [],
   "source": [
    "class TokenizerForRouge:\n",
    "    def __init__(self):\n",
    "        pass\n",
    "    def tokenize(self, already_tokenized):\n",
    "        # return tokenize(text, LANG_CODE)\n",
    "        return already_tokenized"
   ]
  },
  {
   "cell_type": "code",
   "execution_count": 40,
   "metadata": {},
   "outputs": [
    {
     "name": "stderr",
     "output_type": "stream",
     "text": [
      "100%|██████████| 100/100 [00:05<00:00, 16.88it/s]\n"
     ]
    },
    {
     "data": {
      "text/plain": [
       "array([0.00200501, 0.03149363, 0.        , 0.00693644, 0.00517758,\n",
       "       0.        , 0.        , 0.        , 0.        , 0.        ,\n",
       "       0.        , 0.00112045, 0.        , 0.        , 0.02445535,\n",
       "       0.        , 0.        , 0.02893605, 0.        , 0.03439729,\n",
       "       0.01261124, 0.        , 0.        , 0.        , 0.        ,\n",
       "       0.05861656, 0.        , 0.        , 0.07371026, 0.00360774,\n",
       "       0.        , 0.10515156, 0.00069794, 0.        , 0.        ,\n",
       "       0.        , 0.00414079, 0.        , 0.01258332, 0.00158245,\n",
       "       0.        , 0.        , 0.00098522, 0.        , 0.        ,\n",
       "       0.0030765 , 0.        , 0.        , 0.        , 0.0361455 ,\n",
       "       0.        , 0.        , 0.        , 0.        , 0.02682313,\n",
       "       0.        , 0.        , 0.00581044, 0.        , 0.00267857,\n",
       "       0.02917591, 0.00100691, 0.        , 0.00197044, 0.        ,\n",
       "       0.        , 0.        , 0.        , 0.        , 0.        ])"
      ]
     },
     "execution_count": 40,
     "metadata": {},
     "output_type": "execute_result"
    }
   ],
   "source": [
    "def rouge_score_docs(tokenized_queries: list[list[str]], tokenized_example_pool: list[list[str]]):\n",
    "    scores_acc = np.zeros(len(tokenized_example_pool))\n",
    "    scorer = rouge_scorer.RougeScorer(['rouge1', 'rouge2', 'rougeL'], use_stemmer=False, tokenizer=TokenizerForRouge())\n",
    "    \n",
    "    for i, tokenized_query in tqdm(enumerate(tokenized_queries), total=len(tokenized_queries)):\n",
    "        for j, tokenized_example in enumerate(tokenized_example_pool):              \n",
    "            rouge_out = scorer.score(tokenized_query, tokenized_example)\n",
    "            (rouge1, rouge2, rougel) = (rouge_out[\"rouge1\"].fmeasure, rouge_out[\"rouge2\"].fmeasure, rouge_out[\"rougeL\"].fmeasure)\n",
    "            rouge_overall = sum([rouge1, rouge2, rougel])\n",
    "            scores_acc[j] += rouge_overall\n",
    "\n",
    "    scores_acc /= len(tokenized_example_pool)\n",
    "    return scores_acc\n",
    "\n",
    "rouge_score_docs(tokenized_queries, tokenized_example_pool)"
   ]
  },
  {
   "cell_type": "markdown",
   "metadata": {},
   "source": [
    "## Filtering and writing results to file"
   ]
  },
  {
   "cell_type": "code",
   "execution_count": 53,
   "metadata": {},
   "outputs": [
    {
     "name": "stderr",
     "output_type": "stream",
     "text": [
      "100it [00:00, 2572.21it/s]\n"
     ]
    }
   ],
   "source": [
    "score_arr = bm25_score_docs(tokenized_queries, tokenized_example_pool)\n",
    "sorted_scored_examples = []\n",
    "for score, example in zip(score_arr, example_pool):\n",
    "    sorted_scored_examples.append({'score': score, 'example': example})\n",
    "sorted_scored_examples.sort(key=lambda x: -x['score'])"
   ]
  },
  {
   "cell_type": "code",
   "execution_count": 60,
   "metadata": {},
   "outputs": [],
   "source": [
    "from datasets import Dataset\n",
    "DSETSIZE = 50000\n",
    "scores_list = list(map(lambda x: x['score'], sorted_scored_examples[:DSETSIZE]))\n",
    "example_list = list(map(lambda x: x['example'], sorted_scored_examples[:DSETSIZE]))\n",
    "curated_hf_dataset = Dataset.from_dict({'score': scores_list, 'example': example_list})"
   ]
  },
  {
   "cell_type": "code",
   "execution_count": 61,
   "metadata": {},
   "outputs": [
    {
     "name": "stderr",
     "output_type": "stream",
     "text": [
      "Saving the dataset (1/1 shards): 100%|██████████| 70/70 [00:00<00:00, 15161.44 examples/s]\n"
     ]
    }
   ],
   "source": [
    "curated_hf_dataset.save_to_disk(f'select_datasets/{LANG_CODE}/rouge{DSETSIZE}')"
   ]
  },
  {
   "cell_type": "code",
   "execution_count": 65,
   "metadata": {},
   "outputs": [
    {
     "data": {
      "image/png": "[encoded data removed]",
      "text/plain": [
       "<Figure size 640x480 with 1 Axes>"
      ]
     },
     "metadata": {},
     "output_type": "display_data"
    },
    {
     "data": {
      "text/plain": [
       "<Figure size 640x480 with 0 Axes>"
      ]
     },
     "metadata": {},
     "output_type": "display_data"
    }
   ],
   "source": [
    "import seaborn as sns\n",
    "import matplotlib.pyplot as plt\n",
    "\n",
    "# Plot histogram using seaborn\n",
    "sns.histplot(scores_list)\n",
    "\n",
    "# Set plot title and labels\n",
    "plt.title(\"Histogram of score_arr\")\n",
    "plt.xlabel(\"Score\")\n",
    "plt.ylabel(\"Frequency\")\n",
    "\n",
    "# Show the plot\n",
    "plt.show()\n",
    "\n",
    "# Save the plot to disk\n",
    "plt.savefig(f'select_datasets/{LANG_CODE}/rouge{DSETSIZE}/score_dist.png')\n"
   ]
  },
  {
   "cell_type": "markdown",
   "metadata": {},
   "source": [
    "---\n",
    "# graveyard"
   ]
  },
  {
   "cell_type": "code",
   "execution_count": null,
   "metadata": {},
   "outputs": [],
   "source": [
    "def ngram_overlap_score(source: str, example: list[str]) -> float:\n",
    "    from nltk.translate.bleu_score import (SmoothingFunction, sentence_bleu,)\n",
    "\n",
    "    hypotheses = source.split()\n",
    "    references = [s.split() for s in example]\n",
    "\n",
    "    return float(\n",
    "        sentence_bleu(\n",
    "            references,\n",
    "            hypotheses,\n",
    "            smoothing_function=SmoothingFunction().method1,\n",
    "            auto_reweigh=True,\n",
    "        )\n",
    "    )\n",
    " \n",
    "def select_examples(queries: list[str], example_pool: list[str], threshold = -1.0) -> list[dict]:\n",
    "    selected_examples = []\n",
    "    queries_size = len(queries)\n",
    "    pool_size = len(example_pool)\n",
    "    print(f\"selecting from example pool of size {pool_size}\")\n",
    "    print(f\"matching against {queries_size} queries\")\n",
    "    scores = [0.0] * pool_size\n",
    "\n",
    "    for i in tqdm(range(queries_size)):\n",
    "        for j in range(pool_size):\n",
    "            scores[j] += ngram_overlap_score(\n",
    "                queries[i], [example_pool[j]]\n",
    "            )\n",
    "\n",
    "    score_scratch = [s for s in scores]\n",
    "    while True:\n",
    "        arg_max = np.argmax(score_scratch)\n",
    "        if (score_scratch[arg_max] < threshold) or (score_scratch[arg_max] == 0):\n",
    "            break\n",
    "\n",
    "        selected_examples.append((score_scratch[arg_max], example_pool[arg_max]))\n",
    "        score_scratch[arg_max] = threshold - 1.0\n",
    "\n",
    "    return scores, selected_examples\n",
    "\n",
    "scores, selected_examples = select_examples(\n",
    "    queries = queries,\n",
    "    example_pool = example_pool,\n",
    "    threshold=0\n",
    ")\n",
    "\n",
    "for e in selected_examples:\n",
    "    print(e)"
   ]
  }
 ],
 "metadata": {
  "kernelspec": {
   "display_name": "multi",
   "language": "python",
   "name": "python3"
  },
  "language_info": {
   "codemirror_mode": {
    "name": "ipython",
    "version": 3
   },
   "file_extension": ".py",
   "mimetype": "text/x-python",
   "name": "python",
   "nbconvert_exporter": "python",
   "pygments_lexer": "ipython3",
   "version": "3.10.8"
  }
 },
 "nbformat": 4,
 "nbformat_minor": 2
}
