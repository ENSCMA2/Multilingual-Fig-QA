{
 "cells": [
  {
   "cell_type": "code",
   "execution_count": 3,
   "metadata": {},
   "outputs": [
    {
     "name": "stderr",
     "output_type": "stream",
     "text": [
      "[nltk_data] Downloading package punkt to\n",
      "[nltk_data]     /Users/chaosarium/nltk_data...\n",
      "[nltk_data]   Package punkt is already up-to-date!\n",
      "Downloading data: 100%|██████████| 29.7M/29.7M [00:01<00:00, 21.7MB/s]\n",
      "Downloading data: 100%|██████████| 29.9M/29.9M [00:01<00:00, 20.6MB/s]\n",
      "Downloading data: 100%|██████████| 49.4k/49.4k [00:00<00:00, 120kB/s]\n",
      "Generating train split: 46214 examples [00:00, 64908.12 examples/s]\n",
      "Generating validation split: 42 examples [00:00, 11931.78 examples/s]\n"
     ]
    }
   ],
   "source": [
    "from datasets import load_dataset\n",
    "import pandas as pd\n",
    "from rank_bm25 import BM25Okapi\n",
    "import numpy as np\n",
    "from tqdm import tqdm\n",
    "LANG_CODE = 'yo'\n",
    "from rouge_score import rouge_scorer\n",
    "import nltk\n",
    "nltk.download('punkt')\n",
    "\n",
    "c4 = load_dataset(\"allenai/c4\", LANG_CODE)\n",
    "c4_dev_dict = c4.data['validation'].to_pydict()\n",
    "c4_train_dict = c4.data['train'].to_pydict()"
   ]
  },
  {
   "cell_type": "code",
   "execution_count": 4,
   "metadata": {},
   "outputs": [],
   "source": [
    "mabl_df = pd.read_csv(f'../langdata/{LANG_CODE}.csv')\n",
    "# mabl_su_df = pd.read_csv('../translate-test/su.csv')\n",
    "# mabl_su_df = pd.read_csv('../data/syntax_chunked/syntax_tagged_su.csv')"
   ]
  },
  {
   "cell_type": "code",
   "execution_count": null,
   "metadata": {},
   "outputs": [],
   "source": []
  },
  {
   "cell_type": "code",
   "execution_count": 5,
   "metadata": {},
   "outputs": [
    {
     "data": {
      "text/html": [
       "<div>\n",
       "<style scoped>\n",
       "    .dataframe tbody tr th:only-of-type {\n",
       "        vertical-align: middle;\n",
       "    }\n",
       "\n",
       "    .dataframe tbody tr th {\n",
       "        vertical-align: top;\n",
       "    }\n",
       "\n",
       "    .dataframe thead th {\n",
       "        text-align: right;\n",
       "    }\n",
       "</style>\n",
       "<table border=\"1\" class=\"dataframe\">\n",
       "  <thead>\n",
       "    <tr style=\"text-align: right;\">\n",
       "      <th></th>\n",
       "      <th>startphrase</th>\n",
       "      <th>ending1</th>\n",
       "      <th>ending2</th>\n",
       "      <th>labels</th>\n",
       "    </tr>\n",
       "  </thead>\n",
       "  <tbody>\n",
       "    <tr>\n",
       "      <th>0</th>\n",
       "      <td>Òkèlè ẹ̀bà mẹ́ẹ̀ẹ́dọ́gbọ̀n ni ọmọ náà jẹ...</td>\n",
       "      <td>Ọmọ náà jẹ oúnjẹ púpọ̀</td>\n",
       "      <td>Ọmọ náà kò jẹ oúnjẹ púpọ̀</td>\n",
       "      <td>0</td>\n",
       "    </tr>\n",
       "    <tr>\n",
       "      <th>1</th>\n",
       "      <td>Òkèlè ẹ̀bà kan ni ọmọ náà jẹ lánàá</td>\n",
       "      <td>Ọmọ náà jẹ oúnjẹ púpọ̀</td>\n",
       "      <td>Ọmọ náà kò jẹ oúnjẹ púpọ̀</td>\n",
       "      <td>1</td>\n",
       "    </tr>\n",
       "    <tr>\n",
       "      <th>2</th>\n",
       "      <td>Ó burú bí i àjẹ́ apọmọjẹ</td>\n",
       "      <td>Ó máa ń rẹ́rìn-ín</td>\n",
       "      <td>Ó níkà gan</td>\n",
       "      <td>1</td>\n",
       "    </tr>\n",
       "    <tr>\n",
       "      <th>3</th>\n",
       "      <td>Ó burú bí i ọlọ́kàn rere</td>\n",
       "      <td>Ó máa ń rẹ́rìn-ín</td>\n",
       "      <td>Ó níkà gan</td>\n",
       "      <td>0</td>\n",
       "    </tr>\n",
       "    <tr>\n",
       "      <th>4</th>\n",
       "      <td>Òrùn náà ń fẹyín síta bí i ọmọ jòjòló</td>\n",
       "      <td>Ilẹ̀ mọ́ kedere</td>\n",
       "      <td>Òkùnkún bolẹ̀ kan.</td>\n",
       "      <td>0</td>\n",
       "    </tr>\n",
       "    <tr>\n",
       "      <th>...</th>\n",
       "      <td>...</td>\n",
       "      <td>...</td>\n",
       "      <td>...</td>\n",
       "      <td>...</td>\n",
       "    </tr>\n",
       "    <tr>\n",
       "      <th>725</th>\n",
       "      <td>O ti tún ìdí rẹ̀ ṣe</td>\n",
       "      <td>Ó ti fi nǹkan kẹ́reré kóbá ara rẹ̀</td>\n",
       "      <td>Ó ti fi nǹkan ńlá tún ayé ara rẹ̀ ṣe</td>\n",
       "      <td>0</td>\n",
       "    </tr>\n",
       "    <tr>\n",
       "      <th>726</th>\n",
       "      <td>Ó ń gbé mi gẹṣin aáyán</td>\n",
       "      <td>Ó ń ṣe ìlérí irọ́ fún mi</td>\n",
       "      <td>Ó ń ṣe ìlérí òtítọ́ fún mi</td>\n",
       "      <td>1</td>\n",
       "    </tr>\n",
       "    <tr>\n",
       "      <th>727</th>\n",
       "      <td>Ó ń gbé mi gẹṣin tọ́ba ìlú wa ṣẹ̀ṣẹ̀ rà</td>\n",
       "      <td>Ó ń ṣe ìlérí irọ́ fún mi</td>\n",
       "      <td>Ó ń ṣe ìlérí òtítọ́ fún mi</td>\n",
       "      <td>0</td>\n",
       "    </tr>\n",
       "    <tr>\n",
       "      <th>728</th>\n",
       "      <td>Àjàdí ló su sáwo</td>\n",
       "      <td>Àjàdí ló ba nǹkan jẹ́</td>\n",
       "      <td>Àjàdí ló tún nǹkan ṣe</td>\n",
       "      <td>1</td>\n",
       "    </tr>\n",
       "    <tr>\n",
       "      <th>729</th>\n",
       "      <td>Àjàdí ló fọ áwo</td>\n",
       "      <td>Àjàdí ló ba nǹkan jẹ́</td>\n",
       "      <td>Àjàdí ló tún nǹkan ṣe</td>\n",
       "      <td>0</td>\n",
       "    </tr>\n",
       "  </tbody>\n",
       "</table>\n",
       "<p>730 rows × 4 columns</p>\n",
       "</div>"
      ],
      "text/plain": [
       "                                           startphrase  \\\n",
       "0    Òkèlè ẹ̀bà mẹ́ẹ̀ẹ́dọ́gbọ̀n ni ọmọ náà jẹ...   \n",
       "1               Òkèlè ẹ̀bà kan ni ọmọ náà jẹ lánàá   \n",
       "2                         Ó burú bí i àjẹ́ apọmọjẹ   \n",
       "3                         Ó burú bí i ọlọ́kàn rere   \n",
       "4     Òrùn náà ń fẹyín síta bí i ọmọ jòjòló   \n",
       "..                                                 ...   \n",
       "725                             O ti tún ìdí rẹ̀ ṣe   \n",
       "726                        Ó ń gbé mi gẹṣin aáyán   \n",
       "727      Ó ń gbé mi gẹṣin tọ́ba ìlú wa ṣẹ̀ṣẹ̀ rà   \n",
       "728                              Àjàdí ló su sáwo   \n",
       "729                               Àjàdí ló fọ áwo   \n",
       "\n",
       "                                       ending1  \\\n",
       "0                   Ọmọ náà jẹ oúnjẹ púpọ̀   \n",
       "1                   Ọmọ náà jẹ oúnjẹ púpọ̀   \n",
       "2                       Ó máa ń rẹ́rìn-ín   \n",
       "3                       Ó máa ń rẹ́rìn-ín   \n",
       "4                              Ilẹ̀ mọ́ kedere   \n",
       "..                                         ...   \n",
       "725  Ó ti fi nǹkan kẹ́reré kóbá ara rẹ̀   \n",
       "726           Ó ń ṣe ìlérí irọ́ fún mi   \n",
       "727           Ó ń ṣe ìlérí irọ́ fún mi   \n",
       "728                Àjàdí ló ba nǹkan jẹ́   \n",
       "729                Àjàdí ló ba nǹkan jẹ́   \n",
       "\n",
       "                                          ending2  labels  \n",
       "0                  Ọmọ náà kò jẹ oúnjẹ púpọ̀       0  \n",
       "1                  Ọmọ náà kò jẹ oúnjẹ púpọ̀       1  \n",
       "2                                   Ó níkà gan       1  \n",
       "3                                   Ó níkà gan       0  \n",
       "4                            Òkùnkún bolẹ̀ kan.       0  \n",
       "..                                            ...     ...  \n",
       "725  Ó ti fi nǹkan ńlá tún ayé ara rẹ̀ ṣe       0  \n",
       "726          Ó ń ṣe ìlérí òtítọ́ fún mi       1  \n",
       "727          Ó ń ṣe ìlérí òtítọ́ fún mi       0  \n",
       "728                  Àjàdí ló tún nǹkan ṣe       1  \n",
       "729                  Àjàdí ló tún nǹkan ṣe       0  \n",
       "\n",
       "[730 rows x 4 columns]"
      ]
     },
     "execution_count": 5,
     "metadata": {},
     "output_type": "execute_result"
    }
   ],
   "source": [
    "mabl_df"
   ]
  },
  {
   "cell_type": "code",
   "execution_count": 6,
   "metadata": {},
   "outputs": [],
   "source": [
    "start_phrases = mabl_df['startphrase'].tolist()\n",
    "ending1s = mabl_df['ending1'].tolist()\n",
    "ending2s = mabl_df['ending2'].tolist()"
   ]
  },
  {
   "cell_type": "code",
   "execution_count": 7,
   "metadata": {},
   "outputs": [],
   "source": [
    "figqa_examples = list(map(lambda tri: f\"{tri[0]} {tri[1]} {tri[2]}\".replace(\".\", \"\").replace(\",\", \"\"), zip(start_phrases, ending1s, ending2s)))"
   ]
  },
  {
   "cell_type": "code",
   "execution_count": 8,
   "metadata": {},
   "outputs": [
    {
     "data": {
      "text/plain": [
       "['Testosterone ni Thailand - Nebido 1000 mg / 4 milimita 1X4 milimita\\nNebido 1000 mg / 4 milimita 1x4 (Testosterone)\\nBayer Tọki\\ndeede owo 0.00 ฿ 0.00 ฿ sale\\nOlupese: Bayer\\nOhun ti o nṣiṣe lọwọ: Awọn injections ti iṣan ni iforo-sitẹri ti iṣelọpọ intramuscular\\n- Ẹmi-ẹjẹ ti o ni irun\\n- Ina sisun\\n- Idagba ti išẹ agbara ati ìfaradà\\n- Alekun igbẹkẹle ara ẹni ati ailararẹ-ara ẹni (ati awọn oogun ti o nlo ni ero ti o ni ihamọ-ọrọ psychotropic)\\n- Alekun libido ati iṣẹ-ṣiṣe ibalopo, imọran ti o pọju ti clitoris',\n",
       " 'ọja | GuidebooQ\\nọja | MulCMS\\nIle info / Awọn olubasọrọ\\nLati mu yara awọn ilujara ti aye ni a ti ọpọlọpọ-ede + awọsanma ọna\\nPlucial ni, bi di diẹ faramọ ilujara fun gbogbo ilé ni ayika agbaye, nfun kan ti ọpọlọpọ-ede ojutu ni idagbasoke awọn oniwe-ara.\\nIdi ti wa ni wa olona-ede ojutu ti wa ni yàn.\\n(Machine translation + eda eniyan translation)\\n0 Awọn orilẹ-ede &amp; Local\\n(Lati owo ti awọn oja ni aye asekale)\\nnipa 0 %\\n(Atilẹyin Internet users ni ayika agbaye)\\nnipa 0 bilionu eniyan\\n(Win pọju onibara lati gbogbo agbala aye)\\nAwọn ọja ti a ti Lọwọlọwọ ni lati ìfilọ\\nGuidebooQ ni a iṣẹ ti o le ṣe nikan 10 iṣẹju kan ti ọpọlọpọ-ede oju-iwe ayelujara ti gbogbo awọn iranran ni ayika agbaye. O le wa ni won abinibi ede, ki o si pese kan diẹ a nmu ajo nlo alaye to-ajo ni ayika agbaye.\\n91 yatọ si awọn ede\\nWun ati awọn apapo ti awọn ede ti wa ni free\\nSimple translation ilana\\nAwọn translation jẹ pari ni nikan 3 igbesẹ\\nga ni irọrun\\nṢee ṣe lati yi awọn akoonu lati wa ni han fun kọọkan ede\\nSEO fun kọọkan ede\\nGbogbo awọn ede iṣapeye fun search engine\\nBojumu bi a ti ọpọlọpọ-ede akojọ\\nĭrìrĭ kobojumu\\nO kan ṣe a wun kan ti o rọrun input\\nGuidebooQ ti atejade nikan lọwọlọwọ Japanese version,\\nsetan lati jade ni akoko kanna ni agbaye ni 200 orile-ede ati awọn ẹkun ni ti wa ni ṣe tẹlẹ.\\nKo nikan ni ranse ti awọn ajeji awọn arinrin-ajo, yoo bayi duro si gbogbo rẹ ipa ọna lati ajo odi.\\nNi afikun si fifi nikan meta orisi ti díjítà to HTML, ayipada si awọn olona-ede WEB Aaye ibi ti awọn HTML bamu si 91 awọn ede.\\nTi o ba ti imo ti HTML ati CSS o si tẹlẹ ni, o le ti wa ni dabaa olona-ede solusan si bayi ni ose Pẹlu MulCMS.\\nAni lai pese ibere laarin\\nNi ibere lati mọ a aye asekale ilujara ni ko ti to nikan wa agbara. Awọn alasepo ti o ifọkansi lati mọ kan agbaye awujo pẹlu wa ni ojo iwaju, a yoo pese a awọsanma package MulCMS ti o le awọn iṣọrọ lo wa olona-ede ati awọsanma Bluetooth.\\nServer kobojumu\\nNi ibere lati lo Google awọsanma Platform, imo ti ko ba beere ni gbogbo nipa awọn server ati amayederun.\\nIta data Rendering\\nAuto Fi awọn ti o yẹ akoonu lati HTML lilo CSS selector.\\nKan si jẹ tun olona-lingual\\nLati mọ awọn lorun orisun ti ede, agbara lati fi to ọ leti o nipa e-mail nipa itumo atilẹba ọrọ ni a boṣewa ẹya-ara.\\nAdirẹsi opopona\\nJapan Fukuoka, Hakata-fi, Fukuoka City Hakataekihigashi 1-12-17 ọfiisi New Gaea Hakata Station 3F\\nIfilọlẹ GuidebooQ ti o le wa ni da nikan 10 iṣẹju ni 91 yatọ si awọn ede ti WEB guidebook to Japan ti agbegbe owo onihun fun\\nPẹlu gbogbo eniyan ni ibẹrẹ osise ati awon onise, a ti wa ni nduro fun awọn lorun lati kan orisirisi ti eniyan.\\nmail adirẹsi\\nYi ojula ni ibamu pẹlu 91 awọn ede.',\n",
       " 'O2 XDA II mini, tin rao vặt O2 XDA II mini | Rongbay.com\\nCó 1 tin rao liên quan tới \"O2 XDA II mini\" Tỉnh thành: Toàn quốc',\n",
       " 'iPhone 11 Pro 5.8 吋 浪漫彩繪 水鑽空壓氣墊手機殼(風信子) - GP1601-005 - 神腦國際\\niPhone 11 Pro 5.8 吋 浪漫彩繪 水鑽空壓氣墊手機殼(風信子)\\n商品編號：1203902',\n",
       " \"Muna iho Mobile | Red Ọba poka\\nTi ndun ere poka online ni fun ṣugbọn o le bayi mu poka lori rẹ mobile bi daradara. RedKings ni pato jẹ ọkan ninu awọn ti o dara ju aaye online bi nipa software. O nfun wa dede ati aye-kilasi eya fun gbogbo awọn ẹrọ orin. Awọn software jẹ tun olokiki fun awọn oniwe ko eya aworan ati awọn fọto-bojumu kaadi avatars online pẹlú pẹlu resizable tabili ni irú ti ọpọ awọn ẹrọ orin.\\n100% soke to $1250\\nRed Kings poka Review Tesiwaju..\\nRed Ọba poka Software\\nỌkan ninu awọn pataki anfani ti lilo awọn aaye ayelujara ni awọn Red Ọba fun mobile awọn ẹya bi won le wa ni gbaa lati ayelujara ati ki o lo lori eyikeyi foonuiyara. Mobile poka jẹ tun rorun pẹlu fonutologbolori bi awọn ile-nfun atilẹyin alabara ati imọ imọran lati gba lati ayelujara ki o si lo software.\\nRed Ọba poka Games\\nYato si lati awọn anfani, awọn ere tun ni o ni nla poka ere fun oṣiṣẹ ẹrọ orin bi Texas Hold'em, Omaha 7, Kaadi Okunrinlada ati Texas Hold'em poka. Awọn aaye ayelujara tun mu awọn oniwe-software ati awọn ere deede.\\nRed Ọba poka aaye ayelujara\\nRed Ọba poka ibebe\\nRed Ọba poka Idogo & withdrawals\\nAtilẹyin alabara jẹ tun wa ni ọpọ awọn ede ati awọn ti o jẹ wa 24/7 nipasẹ imeeli, foonu ati ifiwe iwiregbe.\\nRed Ọba poka imoriri\\nAwọn ẹrọ orin ti wa ni iwuri lati da awọn ere ni eyikeyi akoko lati gba a bibẹ ti awọn $4,000,000 jackpot. sibẹsibẹ, awọn jackpot duro lati yatọ gbogbo ose ati awọn ti o nfun nla jackpots fun titun bi daradara bi oṣiṣẹ ẹrọ orin. RedKings jẹ ọkan ninu awọn aaye ti o pese ti o dara ju ami-soke muna iho idogo imoriri fun awọn onibara nife ninu mobile poka ere. ni igba akọkọ ti 6 imoriri ni pato ti wa ni nṣe bi ti o wa titi tabi ti afikun owo imoriri ki gbogbo orin le lo ara wọn ti ikede lori eyikeyi ere. Awọn ti o wa titi ajeseku di wulo nigba ti o ba gba awọn ti a beere ojuami. Ti o wa titi imoriri ti wa ni tun ṣe lati fi ṣe afiwe 100% si rẹ ami soke idogo soke lati kan idogo iye ti $2500. Diẹ ninu awọn ojuami ti wa ni idayatọ iru awọn ti o gba awọn ajeseku ni awọn fọọmu ti ni afikun oye.\\nTẹ Eyi to Wọlé Up fun Red Kings poka\"]"
      ]
     },
     "execution_count": 8,
     "metadata": {},
     "output_type": "execute_result"
    }
   ],
   "source": [
    "c4_dev_dict['text'][:5]"
   ]
  },
  {
   "cell_type": "markdown",
   "metadata": {},
   "source": [
    "## General"
   ]
  },
  {
   "cell_type": "code",
   "execution_count": 9,
   "metadata": {},
   "outputs": [
    {
     "data": {
      "text/plain": [
       "['Ọpọlọ',\n",
       " 'Tàlàbí',\n",
       " 'dọ́ta',\n",
       " 'bí',\n",
       " 'i',\n",
       " 'ọmọ',\n",
       " 'òmùgọ̀',\n",
       " 'tí',\n",
       " 'wọ́n',\n",
       " 'rán',\n",
       " 'láta',\n",
       " 'tó',\n",
       " 'lo',\n",
       " 'ra',\n",
       " 'Ọsàn',\n",
       " 'Orí',\n",
       " 'Tàlàbí',\n",
       " 'pé',\n",
       " 'púpọ̀',\n",
       " 'Orí',\n",
       " 'Tàlàbí',\n",
       " 'kò',\n",
       " 'pé',\n",
       " 'rárá']"
      ]
     },
     "execution_count": 9,
     "metadata": {},
     "output_type": "execute_result"
    }
   ],
   "source": [
    "def tokenize(text: str, lang: str):\n",
    "    # nlp = stanza.Pipeline(lang=lang, processors='tokenize', tokenize_no_ssplit=True)\n",
    "    return nltk.word_tokenize(text, language=lang, preserve_line=True)\n",
    "\n",
    "tokenize(figqa_examples[6], LANG_CODE)"
   ]
  },
  {
   "cell_type": "code",
   "execution_count": 37,
   "metadata": {},
   "outputs": [],
   "source": [
    "queries = figqa_examples[:100]\n",
    "example_pool = c4_train_dict['text'][:70]\n",
    "tokenized_example_pool = [tokenize(text, LANG_CODE) for text in example_pool]\n",
    "tokenized_queries = [tokenize(text, LANG_CODE) for text in queries]"
   ]
  },
  {
   "cell_type": "markdown",
   "metadata": {},
   "source": [
    "## BM25 example selection"
   ]
  },
  {
   "cell_type": "code",
   "execution_count": 38,
   "metadata": {},
   "outputs": [
    {
     "name": "stderr",
     "output_type": "stream",
     "text": [
      "100it [00:00, 2779.42it/s]\n"
     ]
    },
    {
     "data": {
      "text/plain": [
       "array([3.72148061e-01, 8.09862813e+00, 0.00000000e+00, 3.96563336e+00,\n",
       "       1.63575173e+00, 0.00000000e+00, 0.00000000e+00, 0.00000000e+00,\n",
       "       0.00000000e+00, 0.00000000e+00, 0.00000000e+00, 2.58250985e-02,\n",
       "       0.00000000e+00, 0.00000000e+00, 1.46561395e+01, 0.00000000e+00,\n",
       "       0.00000000e+00, 1.27043616e+01, 0.00000000e+00, 1.38359198e+01,\n",
       "       3.87642049e+00, 0.00000000e+00, 0.00000000e+00, 0.00000000e+00,\n",
       "       0.00000000e+00, 2.01438910e+01, 0.00000000e+00, 0.00000000e+00,\n",
       "       1.37442875e+01, 1.87529446e+00, 0.00000000e+00, 3.21989907e+01,\n",
       "       9.69102975e-02, 0.00000000e+00, 0.00000000e+00, 0.00000000e+00,\n",
       "       5.06898356e-01, 0.00000000e+00, 1.47862807e+01, 1.73997800e-01,\n",
       "       0.00000000e+00, 0.00000000e+00, 3.09060069e-02, 0.00000000e+00,\n",
       "       0.00000000e+00, 6.95504257e-01, 0.00000000e+00, 0.00000000e+00,\n",
       "       0.00000000e+00, 2.40946194e+01, 0.00000000e+00, 0.00000000e+00,\n",
       "       0.00000000e+00, 0.00000000e+00, 3.01676939e+01, 0.00000000e+00,\n",
       "       0.00000000e+00, 1.22599786e+00, 0.00000000e+00, 5.40961890e-01,\n",
       "       5.59497533e+00, 1.79647572e-01, 0.00000000e+00, 3.70874543e-01,\n",
       "       0.00000000e+00, 0.00000000e+00, 0.00000000e+00, 0.00000000e+00,\n",
       "       0.00000000e+00, 0.00000000e+00])"
      ]
     },
     "execution_count": 38,
     "metadata": {},
     "output_type": "execute_result"
    }
   ],
   "source": [
    "def bm25_score_docs(tokenized_queries: list[list[str]], tokenized_example_pool: list[list[str]]):\n",
    "    scores_acc = np.zeros(len(tokenized_example_pool))\n",
    "    bm25 = BM25Okapi(tokenized_example_pool)\n",
    "    for i, tokenized_query in tqdm(enumerate(tokenized_queries)):\n",
    "        scores_acc += bm25.get_scores(tokenized_query)\n",
    "    scores_acc /= len(tokenized_example_pool)\n",
    "    return scores_acc\n",
    "\n",
    "bm25_score_docs(tokenized_queries, tokenized_example_pool)"
   ]
  },
  {
   "cell_type": "markdown",
   "metadata": {},
   "source": [
    "## Filtering by similarity metric"
   ]
  },
  {
   "cell_type": "code",
   "execution_count": 39,
   "metadata": {},
   "outputs": [],
   "source": [
    "class TokenizerForRouge:\n",
    "    def __init__(self):\n",
    "        pass\n",
    "    def tokenize(self, already_tokenized):\n",
    "        # return tokenize(text, LANG_CODE)\n",
    "        return already_tokenized"
   ]
  },
  {
   "cell_type": "code",
   "execution_count": 40,
   "metadata": {},
   "outputs": [
    {
     "name": "stderr",
     "output_type": "stream",
     "text": [
      "100%|██████████| 100/100 [00:05<00:00, 16.88it/s]\n"
     ]
    },
    {
     "data": {
      "text/plain": [
       "array([0.00200501, 0.03149363, 0.        , 0.00693644, 0.00517758,\n",
       "       0.        , 0.        , 0.        , 0.        , 0.        ,\n",
       "       0.        , 0.00112045, 0.        , 0.        , 0.02445535,\n",
       "       0.        , 0.        , 0.02893605, 0.        , 0.03439729,\n",
       "       0.01261124, 0.        , 0.        , 0.        , 0.        ,\n",
       "       0.05861656, 0.        , 0.        , 0.07371026, 0.00360774,\n",
       "       0.        , 0.10515156, 0.00069794, 0.        , 0.        ,\n",
       "       0.        , 0.00414079, 0.        , 0.01258332, 0.00158245,\n",
       "       0.        , 0.        , 0.00098522, 0.        , 0.        ,\n",
       "       0.0030765 , 0.        , 0.        , 0.        , 0.0361455 ,\n",
       "       0.        , 0.        , 0.        , 0.        , 0.02682313,\n",
       "       0.        , 0.        , 0.00581044, 0.        , 0.00267857,\n",
       "       0.02917591, 0.00100691, 0.        , 0.00197044, 0.        ,\n",
       "       0.        , 0.        , 0.        , 0.        , 0.        ])"
      ]
     },
     "execution_count": 40,
     "metadata": {},
     "output_type": "execute_result"
    }
   ],
   "source": [
    "def rouge_score_docs(tokenized_queries: list[list[str]], tokenized_example_pool: list[list[str]]):\n",
    "    scores_acc = np.zeros(len(tokenized_example_pool))\n",
    "    scorer = rouge_scorer.RougeScorer(['rouge1', 'rouge2', 'rougeL'], use_stemmer=False, tokenizer=TokenizerForRouge())\n",
    "    \n",
    "    for i, tokenized_query in tqdm(enumerate(tokenized_queries), total=len(tokenized_queries)):\n",
    "        for j, tokenized_example in enumerate(tokenized_example_pool):              \n",
    "            rouge_out = scorer.score(tokenized_query, tokenized_example)\n",
    "            (rouge1, rouge2, rougel) = (rouge_out[\"rouge1\"].fmeasure, rouge_out[\"rouge2\"].fmeasure, rouge_out[\"rougeL\"].fmeasure)\n",
    "            rouge_overall = sum([rouge1, rouge2, rougel])\n",
    "            scores_acc[j] += rouge_overall\n",
    "\n",
    "    scores_acc /= len(tokenized_example_pool)\n",
    "    return scores_acc\n",
    "\n",
    "rouge_score_docs(tokenized_queries, tokenized_example_pool)"
   ]
  },
  {
   "cell_type": "markdown",
   "metadata": {},
   "source": [
    "## Filtering and writing results to file"
   ]
  },
  {
   "cell_type": "code",
   "execution_count": 53,
   "metadata": {},
   "outputs": [
    {
     "name": "stderr",
     "output_type": "stream",
     "text": [
      "100it [00:00, 2572.21it/s]\n"
     ]
    }
   ],
   "source": [
    "score_arr = bm25_score_docs(tokenized_queries, tokenized_example_pool)\n",
    "sorted_scored_examples = []\n",
    "for score, example in zip(score_arr, example_pool):\n",
    "    sorted_scored_examples.append({'score': score, 'example': example})\n",
    "sorted_scored_examples.sort(key=lambda x: -x['score'])"
   ]
  },
  {
   "cell_type": "code",
   "execution_count": 60,
   "metadata": {},
   "outputs": [],
   "source": [
    "from datasets import Dataset\n",
    "DSETSIZE = 50000\n",
    "scores_list = list(map(lambda x: x['score'], sorted_scored_examples[:DSETSIZE]))\n",
    "example_list = list(map(lambda x: x['example'], sorted_scored_examples[:DSETSIZE]))\n",
    "curated_hf_dataset = Dataset.from_dict({'score': scores_list, 'example': example_list})"
   ]
  },
  {
   "cell_type": "code",
   "execution_count": 61,
   "metadata": {},
   "outputs": [
    {
     "name": "stderr",
     "output_type": "stream",
     "text": [
      "Saving the dataset (1/1 shards): 100%|██████████| 70/70 [00:00<00:00, 15161.44 examples/s]\n"
     ]
    }
   ],
   "source": [
    "curated_hf_dataset.save_to_disk(f'select_datasets/{LANG_CODE}/rouge{DSETSIZE}')"
   ]
  },
  {
   "cell_type": "code",
   "execution_count": 71,
   "metadata": {},
   "outputs": [
    {
     "data": {
      "image/png": "[encoded data removed]",
      "text/plain": [
       "<Figure size 640x480 with 1 Axes>"
      ]
     },
     "metadata": {},
     "output_type": "display_data"
    }
   ],
   "source": [
    "import seaborn as sns\n",
    "import matplotlib.pyplot as plt\n",
    "\n",
    "# Plot histogram using seaborn\n",
    "sns.histplot(scores_list)\n",
    "\n",
    "# Set plot title and labels\n",
    "plt.title(\"Histogram of score_arr\")\n",
    "plt.xlabel(\"Score\")\n",
    "plt.ylabel(\"Frequency\")\n",
    "plt.yscale('log')\n",
    "\n",
    "# Show the plot\n",
    "plt.show()\n",
    "\n",
    "# Save the plot to disk\n",
    "# plt.savefig(f'select_datasets/{LANG_CODE}/rouge{DSETSIZE}/score_dist.png')\n"
   ]
  },
  {
   "cell_type": "markdown",
   "metadata": {},
   "source": [
    "---\n",
    "# graveyard"
   ]
  },
  {
   "cell_type": "code",
   "execution_count": null,
   "metadata": {},
   "outputs": [],
   "source": [
    "def ngram_overlap_score(source: str, example: list[str]) -> float:\n",
    "    from nltk.translate.bleu_score import (SmoothingFunction, sentence_bleu,)\n",
    "\n",
    "    hypotheses = source.split()\n",
    "    references = [s.split() for s in example]\n",
    "\n",
    "    return float(\n",
    "        sentence_bleu(\n",
    "            references,\n",
    "            hypotheses,\n",
    "            smoothing_function=SmoothingFunction().method1,\n",
    "            auto_reweigh=True,\n",
    "        )\n",
    "    )\n",
    " \n",
    "def select_examples(queries: list[str], example_pool: list[str], threshold = -1.0) -> list[dict]:\n",
    "    selected_examples = []\n",
    "    queries_size = len(queries)\n",
    "    pool_size = len(example_pool)\n",
    "    print(f\"selecting from example pool of size {pool_size}\")\n",
    "    print(f\"matching against {queries_size} queries\")\n",
    "    scores = [0.0] * pool_size\n",
    "\n",
    "    for i in tqdm(range(queries_size)):\n",
    "        for j in range(pool_size):\n",
    "            scores[j] += ngram_overlap_score(\n",
    "                queries[i], [example_pool[j]]\n",
    "            )\n",
    "\n",
    "    score_scratch = [s for s in scores]\n",
    "    while True:\n",
    "        arg_max = np.argmax(score_scratch)\n",
    "        if (score_scratch[arg_max] < threshold) or (score_scratch[arg_max] == 0):\n",
    "            break\n",
    "\n",
    "        selected_examples.append((score_scratch[arg_max], example_pool[arg_max]))\n",
    "        score_scratch[arg_max] = threshold - 1.0\n",
    "\n",
    "    return scores, selected_examples\n",
    "\n",
    "scores, selected_examples = select_examples(\n",
    "    queries = queries,\n",
    "    example_pool = example_pool,\n",
    "    threshold=0\n",
    ")\n",
    "\n",
    "for e in selected_examples:\n",
    "    print(e)"
   ]
  }
 ],
 "metadata": {
  "kernelspec": {
   "display_name": "multi",
   "language": "python",
   "name": "python3"
  },
  "language_info": {
   "codemirror_mode": {
    "name": "ipython",
    "version": 3
   },
   "file_extension": ".py",
   "mimetype": "text/x-python",
   "name": "python",
   "nbconvert_exporter": "python",
   "pygments_lexer": "ipython3",
   "version": "3.10.8"
  }
 },
 "nbformat": 4,
 "nbformat_minor": 2
}
