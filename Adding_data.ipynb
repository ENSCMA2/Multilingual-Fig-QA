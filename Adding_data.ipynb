{
 "cells": [
  {
   "cell_type": "code",
   "execution_count": 1,
   "id": "4428e65f",
   "metadata": {},
   "outputs": [
    {
     "name": "stdout",
     "output_type": "stream",
     "text": [
      "/projects/metis2/anubha/research/Multilingual-Fig-QA/langdata\n"
     ]
    }
   ],
   "source": [
    "cd langdata"
   ]
  },
  {
   "cell_type": "code",
   "execution_count": 2,
   "id": "ebcd4222",
   "metadata": {},
   "outputs": [],
   "source": [
    "#Reading Dataset"
   ]
  },
  {
   "cell_type": "code",
   "execution_count": 3,
   "id": "3c4b2510",
   "metadata": {},
   "outputs": [
    {
     "name": "stdout",
     "output_type": "stream",
     "text": [
      "en_dev.csv  en_train.csv  hi.csv  id.csv  jv.csv  kn.csv  su.csv  sw.csv\r\n"
     ]
    }
   ],
   "source": [
    "ls"
   ]
  },
  {
   "cell_type": "code",
   "execution_count": 4,
   "id": "6ff766f0",
   "metadata": {},
   "outputs": [],
   "source": [
    "def seed_everything(seed: int):\n",
    "    import random, os\n",
    "    import numpy as np\n",
    "    import torch\n",
    "    \n",
    "    random.seed(seed)\n",
    "    os.environ['PYTHONHASHSEED'] = str(seed)\n",
    "    np.random.seed(seed)\n",
    "    torch.manual_seed(seed)\n",
    "    torch.cuda.manual_seed(seed)\n",
    "    torch.backends.cudnn.deterministic = True\n",
    "    torch.backends.cudnn.benchmark = True\n",
    "    \n",
    "seed_everything(42)"
   ]
  },
  {
   "cell_type": "markdown",
   "id": "d11a48e7",
   "metadata": {},
   "source": [
    "### Experiment 6.2.3"
   ]
  },
  {
   "cell_type": "code",
   "execution_count": 5,
   "id": "65427140",
   "metadata": {},
   "outputs": [],
   "source": [
    "import pandas as pd"
   ]
  },
  {
   "cell_type": "code",
   "execution_count": 6,
   "id": "6e2cc908",
   "metadata": {},
   "outputs": [
    {
     "data": {
      "text/html": [
       "<div>\n",
       "<style scoped>\n",
       "    .dataframe tbody tr th:only-of-type {\n",
       "        vertical-align: middle;\n",
       "    }\n",
       "\n",
       "    .dataframe tbody tr th {\n",
       "        vertical-align: top;\n",
       "    }\n",
       "\n",
       "    .dataframe thead th {\n",
       "        text-align: right;\n",
       "    }\n",
       "</style>\n",
       "<table border=\"1\" class=\"dataframe\">\n",
       "  <thead>\n",
       "    <tr style=\"text-align: right;\">\n",
       "      <th></th>\n",
       "      <th>startphrase</th>\n",
       "      <th>ending1</th>\n",
       "      <th>ending2</th>\n",
       "      <th>labels</th>\n",
       "    </tr>\n",
       "  </thead>\n",
       "  <tbody>\n",
       "    <tr>\n",
       "      <th>0</th>\n",
       "      <td>Her word had the strength of titanium.</td>\n",
       "      <td>Her promises can be believed.</td>\n",
       "      <td>Her promises cannot be trusted.</td>\n",
       "      <td>0</td>\n",
       "    </tr>\n",
       "    <tr>\n",
       "      <th>1</th>\n",
       "      <td>Her word had the strength of a wine glass.</td>\n",
       "      <td>Her promises can be believed.</td>\n",
       "      <td>Her promises cannot be trusted.</td>\n",
       "      <td>1</td>\n",
       "    </tr>\n",
       "    <tr>\n",
       "      <th>2</th>\n",
       "      <td>His kisses have the passion of lovers meeting ...</td>\n",
       "      <td>His kisses are demonstrative and intense.</td>\n",
       "      <td>His kiss is unemotional.</td>\n",
       "      <td>0</td>\n",
       "    </tr>\n",
       "    <tr>\n",
       "      <th>3</th>\n",
       "      <td>His kisses have the passion of a couple in a l...</td>\n",
       "      <td>His kisses are demonstrative and intense.</td>\n",
       "      <td>His kiss is unemotional.</td>\n",
       "      <td>1</td>\n",
       "    </tr>\n",
       "    <tr>\n",
       "      <th>4</th>\n",
       "      <td>This winter is as cold as my mother-in-law tow...</td>\n",
       "      <td>It's very cold</td>\n",
       "      <td>It's pretty warm</td>\n",
       "      <td>0</td>\n",
       "    </tr>\n",
       "  </tbody>\n",
       "</table>\n",
       "</div>"
      ],
      "text/plain": [
       "                                         startphrase  \\\n",
       "0             Her word had the strength of titanium.   \n",
       "1         Her word had the strength of a wine glass.   \n",
       "2  His kisses have the passion of lovers meeting ...   \n",
       "3  His kisses have the passion of a couple in a l...   \n",
       "4  This winter is as cold as my mother-in-law tow...   \n",
       "\n",
       "                                     ending1                          ending2  \\\n",
       "0              Her promises can be believed.  Her promises cannot be trusted.   \n",
       "1              Her promises can be believed.  Her promises cannot be trusted.   \n",
       "2  His kisses are demonstrative and intense.         His kiss is unemotional.   \n",
       "3  His kisses are demonstrative and intense.         His kiss is unemotional.   \n",
       "4                             It's very cold                 It's pretty warm   \n",
       "\n",
       "   labels  \n",
       "0       0  \n",
       "1       1  \n",
       "2       0  \n",
       "3       1  \n",
       "4       0  "
      ]
     },
     "execution_count": 6,
     "metadata": {},
     "output_type": "execute_result"
    }
   ],
   "source": [
    "# load english data\n",
    "df_original = pd.read_csv(\"en_train.csv\")\n",
    "df_original.head()"
   ]
  },
  {
   "cell_type": "code",
   "execution_count": 170,
   "id": "cb91c265",
   "metadata": {},
   "outputs": [
    {
     "data": {
      "text/html": [
       "<div>\n",
       "<style scoped>\n",
       "    .dataframe tbody tr th:only-of-type {\n",
       "        vertical-align: middle;\n",
       "    }\n",
       "\n",
       "    .dataframe tbody tr th {\n",
       "        vertical-align: top;\n",
       "    }\n",
       "\n",
       "    .dataframe thead th {\n",
       "        text-align: right;\n",
       "    }\n",
       "</style>\n",
       "<table border=\"1\" class=\"dataframe\">\n",
       "  <thead>\n",
       "    <tr style=\"text-align: right;\">\n",
       "      <th></th>\n",
       "      <th>startphrase</th>\n",
       "      <th>ending1</th>\n",
       "      <th>ending2</th>\n",
       "      <th>labels</th>\n",
       "    </tr>\n",
       "  </thead>\n",
       "  <tbody>\n",
       "    <tr>\n",
       "      <th>0</th>\n",
       "      <td>hirup kawas kurung batok</td>\n",
       "      <td>hirup kawas kakekang</td>\n",
       "      <td>hirup kawas bebas.</td>\n",
       "      <td>0</td>\n",
       "    </tr>\n",
       "    <tr>\n",
       "      <th>1</th>\n",
       "      <td>hirup kawas murag bulu bitis.</td>\n",
       "      <td>hirup kawas kakekang</td>\n",
       "      <td>hirup kawas bebas.</td>\n",
       "      <td>1</td>\n",
       "    </tr>\n",
       "    <tr>\n",
       "      <th>2</th>\n",
       "      <td>jadi jalma teh kudu hampang birit</td>\n",
       "      <td>jadi jalma teh kudu rajin</td>\n",
       "      <td>jadi jalma teh kudu kedul.</td>\n",
       "      <td>0</td>\n",
       "    </tr>\n",
       "    <tr>\n",
       "      <th>3</th>\n",
       "      <td>jadi jalma teh kudu beurat birit.</td>\n",
       "      <td>jadi jalma teh kudu rajin</td>\n",
       "      <td>jadi jalma teh kudu kedul.</td>\n",
       "      <td>1</td>\n",
       "    </tr>\n",
       "    <tr>\n",
       "      <th>4</th>\n",
       "      <td>Mamat lumpatna siga uncal</td>\n",
       "      <td>mamat lumpat siga gancang</td>\n",
       "      <td>mamat lumpat siga laun.</td>\n",
       "      <td>0</td>\n",
       "    </tr>\n",
       "  </tbody>\n",
       "</table>\n",
       "</div>"
      ],
      "text/plain": [
       "                         startphrase                    ending1  \\\n",
       "0           hirup kawas kurung batok       hirup kawas kakekang   \n",
       "1      hirup kawas murag bulu bitis.       hirup kawas kakekang   \n",
       "2  jadi jalma teh kudu hampang birit  jadi jalma teh kudu rajin   \n",
       "3  jadi jalma teh kudu beurat birit.  jadi jalma teh kudu rajin   \n",
       "4          Mamat lumpatna siga uncal  mamat lumpat siga gancang   \n",
       "\n",
       "                      ending2  labels  \n",
       "0          hirup kawas bebas.       0  \n",
       "1          hirup kawas bebas.       1  \n",
       "2  jadi jalma teh kudu kedul.       0  \n",
       "3  jadi jalma teh kudu kedul.       1  \n",
       "4     mamat lumpat siga laun.       0  "
      ]
     },
     "execution_count": 170,
     "metadata": {},
     "output_type": "execute_result"
    }
   ],
   "source": [
    "#load other data\n",
    "df = pd.read_csv(\"su.csv\")\n",
    "df = df.reindex(df_original.columns, axis=1)\n",
    "df.head()"
   ]
  },
  {
   "cell_type": "code",
   "execution_count": 171,
   "id": "e35c09f7",
   "metadata": {},
   "outputs": [],
   "source": [
    "#Add id to the loaded data\n",
    "count =0\n",
    "c=[]\n",
    "for i in range(int(df.shape[0]/2)):\n",
    "    c.append(count)\n",
    "    c.append(count)\n",
    "    count+=1\n",
    "df[\"id\"] = c  "
   ]
  },
  {
   "cell_type": "code",
   "execution_count": 172,
   "id": "73d2c69a",
   "metadata": {},
   "outputs": [
    {
     "data": {
      "text/html": [
       "<div>\n",
       "<style scoped>\n",
       "    .dataframe tbody tr th:only-of-type {\n",
       "        vertical-align: middle;\n",
       "    }\n",
       "\n",
       "    .dataframe tbody tr th {\n",
       "        vertical-align: top;\n",
       "    }\n",
       "\n",
       "    .dataframe thead th {\n",
       "        text-align: right;\n",
       "    }\n",
       "</style>\n",
       "<table border=\"1\" class=\"dataframe\">\n",
       "  <thead>\n",
       "    <tr style=\"text-align: right;\">\n",
       "      <th></th>\n",
       "      <th>startphrase</th>\n",
       "      <th>ending1</th>\n",
       "      <th>ending2</th>\n",
       "      <th>labels</th>\n",
       "      <th>id</th>\n",
       "    </tr>\n",
       "  </thead>\n",
       "  <tbody>\n",
       "    <tr>\n",
       "      <th>0</th>\n",
       "      <td>hirup kawas kurung batok</td>\n",
       "      <td>hirup kawas kakekang</td>\n",
       "      <td>hirup kawas bebas.</td>\n",
       "      <td>0</td>\n",
       "      <td>0</td>\n",
       "    </tr>\n",
       "    <tr>\n",
       "      <th>1</th>\n",
       "      <td>hirup kawas murag bulu bitis.</td>\n",
       "      <td>hirup kawas kakekang</td>\n",
       "      <td>hirup kawas bebas.</td>\n",
       "      <td>1</td>\n",
       "      <td>0</td>\n",
       "    </tr>\n",
       "    <tr>\n",
       "      <th>2</th>\n",
       "      <td>jadi jalma teh kudu hampang birit</td>\n",
       "      <td>jadi jalma teh kudu rajin</td>\n",
       "      <td>jadi jalma teh kudu kedul.</td>\n",
       "      <td>0</td>\n",
       "      <td>1</td>\n",
       "    </tr>\n",
       "    <tr>\n",
       "      <th>3</th>\n",
       "      <td>jadi jalma teh kudu beurat birit.</td>\n",
       "      <td>jadi jalma teh kudu rajin</td>\n",
       "      <td>jadi jalma teh kudu kedul.</td>\n",
       "      <td>1</td>\n",
       "      <td>1</td>\n",
       "    </tr>\n",
       "    <tr>\n",
       "      <th>4</th>\n",
       "      <td>Mamat lumpatna siga uncal</td>\n",
       "      <td>mamat lumpat siga gancang</td>\n",
       "      <td>mamat lumpat siga laun.</td>\n",
       "      <td>0</td>\n",
       "      <td>2</td>\n",
       "    </tr>\n",
       "  </tbody>\n",
       "</table>\n",
       "</div>"
      ],
      "text/plain": [
       "                         startphrase                    ending1  \\\n",
       "0           hirup kawas kurung batok       hirup kawas kakekang   \n",
       "1      hirup kawas murag bulu bitis.       hirup kawas kakekang   \n",
       "2  jadi jalma teh kudu hampang birit  jadi jalma teh kudu rajin   \n",
       "3  jadi jalma teh kudu beurat birit.  jadi jalma teh kudu rajin   \n",
       "4          Mamat lumpatna siga uncal  mamat lumpat siga gancang   \n",
       "\n",
       "                      ending2  labels  id  \n",
       "0          hirup kawas bebas.       0   0  \n",
       "1          hirup kawas bebas.       1   0  \n",
       "2  jadi jalma teh kudu kedul.       0   1  \n",
       "3  jadi jalma teh kudu kedul.       1   1  \n",
       "4     mamat lumpat siga laun.       0   2  "
      ]
     },
     "execution_count": 172,
     "metadata": {},
     "output_type": "execute_result"
    }
   ],
   "source": [
    "df.head()"
   ]
  },
  {
   "cell_type": "code",
   "execution_count": 173,
   "id": "c104f79e",
   "metadata": {},
   "outputs": [],
   "source": [
    "#df_original = english data\n",
    "#df = language data\n",
    "#k = number of datapoints to be added\n",
    "#pair = in pair / not\n",
    "\n",
    "def adding_datapoints(df_original, df, k, pair):\n",
    "    df_final = pd.DataFrame(columns=df_original.columns)\n",
    "    if pair:\n",
    "        df_pair = df.sample(n=k, random_state=42)\n",
    "        for index, r in df_pair.iterrows():\n",
    "            r_id = r['id']\n",
    "            w = df.loc[df['id'] == r_id]\n",
    "            w.sort_values(by=['labels'], inplace=True)\n",
    "            df=df.drop(w.index)\n",
    "            w= w.drop(['id'], axis=1)\n",
    "            df_final = df_final.append(w)\n",
    "    else:\n",
    "        df_pair = df.sample(n=k, random_state=42)\n",
    "        df=df.drop(df_pair.index)\n",
    "        w= df_pair.drop(['id'], axis=1)\n",
    "        df_final = df_final.append(w)\n",
    "\n",
    "    df_total = pd.concat([df_original,df_final])\n",
    "    df_test = df.drop(['id'], axis=1)\n",
    "    return df_total, df_test\n",
    "\n",
    "    "
   ]
  },
  {
   "cell_type": "code",
   "execution_count": 191,
   "id": "ebce4b22",
   "metadata": {},
   "outputs": [],
   "source": [
    "num_samples = 6\n",
    "lang = \"su\""
   ]
  },
  {
   "cell_type": "code",
   "execution_count": 192,
   "id": "e6386577",
   "metadata": {},
   "outputs": [
    {
     "name": "stderr",
     "output_type": "stream",
     "text": [
      "/tmp/ipykernel_19845/2048821062.py:21: FutureWarning: The frame.append method is deprecated and will be removed from pandas in a future version. Use pandas.concat instead.\n",
      "  df_final = df_final.append(w)\n"
     ]
    },
    {
     "data": {
      "text/html": [
       "<div>\n",
       "<style scoped>\n",
       "    .dataframe tbody tr th:only-of-type {\n",
       "        vertical-align: middle;\n",
       "    }\n",
       "\n",
       "    .dataframe tbody tr th {\n",
       "        vertical-align: top;\n",
       "    }\n",
       "\n",
       "    .dataframe thead th {\n",
       "        text-align: right;\n",
       "    }\n",
       "</style>\n",
       "<table border=\"1\" class=\"dataframe\">\n",
       "  <thead>\n",
       "    <tr style=\"text-align: right;\">\n",
       "      <th></th>\n",
       "      <th>startphrase</th>\n",
       "      <th>ending1</th>\n",
       "      <th>ending2</th>\n",
       "      <th>labels</th>\n",
       "    </tr>\n",
       "  </thead>\n",
       "  <tbody>\n",
       "    <tr>\n",
       "      <th>419</th>\n",
       "      <td>Dina éta balapan manehna jiga kuda hideung.</td>\n",
       "      <td>Dina éta balapan manehna jiga idola</td>\n",
       "      <td>Dina éta balapan manehna jiga jalmi nu teu dip...</td>\n",
       "      <td>1</td>\n",
       "    </tr>\n",
       "    <tr>\n",
       "      <th>565</th>\n",
       "      <td>Pernikahan mah ti jaman baheula gé asaan pasti...</td>\n",
       "      <td>Pernikahan mah aya nu awét</td>\n",
       "      <td>Pernikahan mah aya nu teu awét.</td>\n",
       "      <td>1</td>\n",
       "    </tr>\n",
       "    <tr>\n",
       "      <th>77</th>\n",
       "      <td>lamun aya masalah, hidup teh karasa keur jalan...</td>\n",
       "      <td>lamun aya masalah, hidup teh karasa keurteu la...</td>\n",
       "      <td>lamun aya masalah, hidup teh karasa keur mulus.</td>\n",
       "      <td>1</td>\n",
       "    </tr>\n",
       "    <tr>\n",
       "      <th>181</th>\n",
       "      <td>Bumi na siga sarang na cucunguk.</td>\n",
       "      <td>Bumi na beresih pisan</td>\n",
       "      <td>Bumi na buladig.</td>\n",
       "      <td>1</td>\n",
       "    </tr>\n",
       "    <tr>\n",
       "      <th>284</th>\n",
       "      <td>Ngadangu carita anjeun mah kawas ngimpi labuh ...</td>\n",
       "      <td>Ngadangu carita anjeun mah ngareuwaskeun</td>\n",
       "      <td>Ngadangu carita anjeun mah nyenengkeun.</td>\n",
       "      <td>0</td>\n",
       "    </tr>\n",
       "  </tbody>\n",
       "</table>\n",
       "</div>"
      ],
      "text/plain": [
       "                                           startphrase  \\\n",
       "419        Dina éta balapan manehna jiga kuda hideung.   \n",
       "565  Pernikahan mah ti jaman baheula gé asaan pasti...   \n",
       "77   lamun aya masalah, hidup teh karasa keur jalan...   \n",
       "181                   Bumi na siga sarang na cucunguk.   \n",
       "284  Ngadangu carita anjeun mah kawas ngimpi labuh ...   \n",
       "\n",
       "                                               ending1  \\\n",
       "419                Dina éta balapan manehna jiga idola   \n",
       "565                         Pernikahan mah aya nu awét   \n",
       "77   lamun aya masalah, hidup teh karasa keurteu la...   \n",
       "181                              Bumi na beresih pisan   \n",
       "284           Ngadangu carita anjeun mah ngareuwaskeun   \n",
       "\n",
       "                                               ending2 labels  \n",
       "419  Dina éta balapan manehna jiga jalmi nu teu dip...      1  \n",
       "565                    Pernikahan mah aya nu teu awét.      1  \n",
       "77     lamun aya masalah, hidup teh karasa keur mulus.      1  \n",
       "181                                   Bumi na buladig.      1  \n",
       "284            Ngadangu carita anjeun mah nyenengkeun.      0  "
      ]
     },
     "execution_count": 192,
     "metadata": {},
     "output_type": "execute_result"
    }
   ],
   "source": [
    "# #final dataframe, rows added in the end\n",
    "# df_total = adding_datapoints(df_original, df, 10, True)\n",
    "# df_total.tail()\n",
    "\n",
    "#final dataframe, rows added in the end\n",
    "df_total, df_test = adding_datapoints(df_original, df, num_samples, False)\n",
    "df_total.tail()"
   ]
  },
  {
   "cell_type": "code",
   "execution_count": 193,
   "id": "6bd73483",
   "metadata": {},
   "outputs": [
    {
     "name": "stdout",
     "output_type": "stream",
     "text": [
      "(600, 5)\n",
      "(594, 4)\n"
     ]
    }
   ],
   "source": [
    "print(df.shape)\n",
    "print(df_test.shape)"
   ]
  },
  {
   "cell_type": "code",
   "execution_count": 194,
   "id": "8915d5a2",
   "metadata": {},
   "outputs": [],
   "source": [
    "#loaction : /projects/metis2/anubha/research/Multilingual-Fig-QA/data/addition_data_winogrand -> for paired data addition\n",
    "#loaction : /projects/metis2/anubha/research/Multilingual-Fig-QA/data/addition_data -> for single data addition\n",
    "winogrand = r'/projects/metis2/anubha/research/Multilingual-Fig-QA/data/addition_data_winogrand/'\n",
    "no_winogrand = r'/projects/metis2/anubha/research/Multilingual-Fig-QA/data/addition_data/'\n",
    "folder_name = lang+ \"/\"\n",
    "name = lang + \"_\" + str(num_samples)\n",
    "df_total.to_csv(no_winogrand+'train/' +folder_name+ name+\".csv\", index = False)\n",
    "df_test.to_csv(no_winogrand+'test/'+folder_name+ name+ \".csv\", index = False)"
   ]
  },
  {
   "cell_type": "code",
   "execution_count": null,
   "id": "62dd48dc",
   "metadata": {},
   "outputs": [],
   "source": []
  },
  {
   "cell_type": "markdown",
   "id": "01ceaa85",
   "metadata": {},
   "source": [
    "### Removing Rows from testing data\n"
   ]
  },
  {
   "cell_type": "code",
   "execution_count": null,
   "id": "8071e19b",
   "metadata": {},
   "outputs": [],
   "source": []
  },
  {
   "cell_type": "code",
   "execution_count": null,
   "id": "c1cff856",
   "metadata": {},
   "outputs": [],
   "source": []
  },
  {
   "cell_type": "code",
   "execution_count": null,
   "id": "80d6fc0f",
   "metadata": {},
   "outputs": [],
   "source": []
  },
  {
   "cell_type": "markdown",
   "id": "eac5b810",
   "metadata": {},
   "source": [
    "### Experiment 6.2.2"
   ]
  },
  {
   "cell_type": "code",
   "execution_count": 33,
   "id": "5f7b9f89",
   "metadata": {},
   "outputs": [
    {
     "data": {
      "text/html": [
       "<div>\n",
       "<style scoped>\n",
       "    .dataframe tbody tr th:only-of-type {\n",
       "        vertical-align: middle;\n",
       "    }\n",
       "\n",
       "    .dataframe tbody tr th {\n",
       "        vertical-align: top;\n",
       "    }\n",
       "\n",
       "    .dataframe thead th {\n",
       "        text-align: right;\n",
       "    }\n",
       "</style>\n",
       "<table border=\"1\" class=\"dataframe\">\n",
       "  <thead>\n",
       "    <tr style=\"text-align: right;\">\n",
       "      <th></th>\n",
       "      <th>startphrase</th>\n",
       "      <th>ending1</th>\n",
       "      <th>ending2</th>\n",
       "      <th>labels</th>\n",
       "    </tr>\n",
       "  </thead>\n",
       "  <tbody>\n",
       "    <tr>\n",
       "      <th>0</th>\n",
       "      <td>Her word had the strength of titanium.</td>\n",
       "      <td>Her promises can be believed.</td>\n",
       "      <td>Her promises cannot be trusted.</td>\n",
       "      <td>0</td>\n",
       "    </tr>\n",
       "    <tr>\n",
       "      <th>1</th>\n",
       "      <td>Her word had the strength of a wine glass.</td>\n",
       "      <td>Her promises can be believed.</td>\n",
       "      <td>Her promises cannot be trusted.</td>\n",
       "      <td>1</td>\n",
       "    </tr>\n",
       "    <tr>\n",
       "      <th>2</th>\n",
       "      <td>His kisses have the passion of lovers meeting ...</td>\n",
       "      <td>His kisses are demonstrative and intense.</td>\n",
       "      <td>His kiss is unemotional.</td>\n",
       "      <td>0</td>\n",
       "    </tr>\n",
       "    <tr>\n",
       "      <th>3</th>\n",
       "      <td>His kisses have the passion of a couple in a l...</td>\n",
       "      <td>His kisses are demonstrative and intense.</td>\n",
       "      <td>His kiss is unemotional.</td>\n",
       "      <td>1</td>\n",
       "    </tr>\n",
       "    <tr>\n",
       "      <th>4</th>\n",
       "      <td>This winter is as cold as my mother-in-law tow...</td>\n",
       "      <td>It's very cold</td>\n",
       "      <td>It's pretty warm</td>\n",
       "      <td>0</td>\n",
       "    </tr>\n",
       "  </tbody>\n",
       "</table>\n",
       "</div>"
      ],
      "text/plain": [
       "                                         startphrase  \\\n",
       "0             Her word had the strength of titanium.   \n",
       "1         Her word had the strength of a wine glass.   \n",
       "2  His kisses have the passion of lovers meeting ...   \n",
       "3  His kisses have the passion of a couple in a l...   \n",
       "4  This winter is as cold as my mother-in-law tow...   \n",
       "\n",
       "                                     ending1                          ending2  \\\n",
       "0              Her promises can be believed.  Her promises cannot be trusted.   \n",
       "1              Her promises can be believed.  Her promises cannot be trusted.   \n",
       "2  His kisses are demonstrative and intense.         His kiss is unemotional.   \n",
       "3  His kisses are demonstrative and intense.         His kiss is unemotional.   \n",
       "4                             It's very cold                 It's pretty warm   \n",
       "\n",
       "   labels  \n",
       "0       0  \n",
       "1       1  \n",
       "2       0  \n",
       "3       1  \n",
       "4       0  "
      ]
     },
     "execution_count": 33,
     "metadata": {},
     "output_type": "execute_result"
    }
   ],
   "source": [
    "import pandas as pd\n",
    "# load english data\n",
    "df_original = pd.read_csv(\"en_train.csv\")\n",
    "df_original.head()"
   ]
  },
  {
   "cell_type": "code",
   "execution_count": 35,
   "id": "e9058c80",
   "metadata": {},
   "outputs": [
    {
     "data": {
      "text/html": [
       "<div>\n",
       "<style scoped>\n",
       "    .dataframe tbody tr th:only-of-type {\n",
       "        vertical-align: middle;\n",
       "    }\n",
       "\n",
       "    .dataframe tbody tr th {\n",
       "        vertical-align: top;\n",
       "    }\n",
       "\n",
       "    .dataframe thead th {\n",
       "        text-align: right;\n",
       "    }\n",
       "</style>\n",
       "<table border=\"1\" class=\"dataframe\">\n",
       "  <thead>\n",
       "    <tr style=\"text-align: right;\">\n",
       "      <th></th>\n",
       "      <th>startphrase</th>\n",
       "      <th>ending1</th>\n",
       "      <th>ending2</th>\n",
       "      <th>labels</th>\n",
       "    </tr>\n",
       "  </thead>\n",
       "  <tbody>\n",
       "    <tr>\n",
       "      <th>0</th>\n",
       "      <td>Watoto ni malaika</td>\n",
       "      <td>Watoto daima hawana hatia</td>\n",
       "      <td>Yeye daima ni mwenye dhambi</td>\n",
       "      <td>0.0</td>\n",
       "    </tr>\n",
       "    <tr>\n",
       "      <th>1</th>\n",
       "      <td>Yeye ni mnyama.</td>\n",
       "      <td>Watoto daima hawana hatia</td>\n",
       "      <td>Yeye daima ni mwenye dhambi</td>\n",
       "      <td>1.0</td>\n",
       "    </tr>\n",
       "    <tr>\n",
       "      <th>2</th>\n",
       "      <td>Maneno yake ni kama kisu</td>\n",
       "      <td>Maneno yako yanaumiza</td>\n",
       "      <td>Maneno yake yanafariji</td>\n",
       "      <td>0.0</td>\n",
       "    </tr>\n",
       "    <tr>\n",
       "      <th>3</th>\n",
       "      <td>Maneno yake ni kama kinanda</td>\n",
       "      <td>Maneno yako yanaumiza</td>\n",
       "      <td>Maneno yake yanafariji</td>\n",
       "      <td>1.0</td>\n",
       "    </tr>\n",
       "    <tr>\n",
       "      <th>4</th>\n",
       "      <td>Tabasamu lake huangaza chumba kizima</td>\n",
       "      <td>Ana tabasamu zuri</td>\n",
       "      <td>Tabasamu lake linatisha</td>\n",
       "      <td>0.0</td>\n",
       "    </tr>\n",
       "  </tbody>\n",
       "</table>\n",
       "</div>"
      ],
      "text/plain": [
       "                            startphrase                    ending1  \\\n",
       "0                     Watoto ni malaika  Watoto daima hawana hatia   \n",
       "1                       Yeye ni mnyama.  Watoto daima hawana hatia   \n",
       "2              Maneno yake ni kama kisu      Maneno yako yanaumiza   \n",
       "3           Maneno yake ni kama kinanda      Maneno yako yanaumiza   \n",
       "4  Tabasamu lake huangaza chumba kizima          Ana tabasamu zuri   \n",
       "\n",
       "                       ending2  labels  \n",
       "0  Yeye daima ni mwenye dhambi     0.0  \n",
       "1  Yeye daima ni mwenye dhambi     1.0  \n",
       "2       Maneno yake yanafariji     0.0  \n",
       "3       Maneno yake yanafariji     1.0  \n",
       "4      Tabasamu lake linatisha     0.0  "
      ]
     },
     "execution_count": 35,
     "metadata": {},
     "output_type": "execute_result"
    }
   ],
   "source": [
    "#load other data\n",
    "df = pd.read_csv(\"sw.csv\")\n",
    "df = df.reindex(df_original.columns, axis=1)\n",
    "df.head()"
   ]
  },
  {
   "cell_type": "code",
   "execution_count": 36,
   "id": "74846441",
   "metadata": {},
   "outputs": [],
   "source": [
    " df_total = pd.concat([df_original,df])"
   ]
  },
  {
   "cell_type": "code",
   "execution_count": 37,
   "id": "f9e2fb3e",
   "metadata": {},
   "outputs": [
    {
     "data": {
      "text/html": [
       "<div>\n",
       "<style scoped>\n",
       "    .dataframe tbody tr th:only-of-type {\n",
       "        vertical-align: middle;\n",
       "    }\n",
       "\n",
       "    .dataframe tbody tr th {\n",
       "        vertical-align: top;\n",
       "    }\n",
       "\n",
       "    .dataframe thead th {\n",
       "        text-align: right;\n",
       "    }\n",
       "</style>\n",
       "<table border=\"1\" class=\"dataframe\">\n",
       "  <thead>\n",
       "    <tr style=\"text-align: right;\">\n",
       "      <th></th>\n",
       "      <th>startphrase</th>\n",
       "      <th>ending1</th>\n",
       "      <th>ending2</th>\n",
       "      <th>labels</th>\n",
       "    </tr>\n",
       "  </thead>\n",
       "  <tbody>\n",
       "    <tr>\n",
       "      <th>0</th>\n",
       "      <td>Her word had the strength of titanium.</td>\n",
       "      <td>Her promises can be believed.</td>\n",
       "      <td>Her promises cannot be trusted.</td>\n",
       "      <td>0.0</td>\n",
       "    </tr>\n",
       "    <tr>\n",
       "      <th>1</th>\n",
       "      <td>Her word had the strength of a wine glass.</td>\n",
       "      <td>Her promises can be believed.</td>\n",
       "      <td>Her promises cannot be trusted.</td>\n",
       "      <td>1.0</td>\n",
       "    </tr>\n",
       "    <tr>\n",
       "      <th>2</th>\n",
       "      <td>His kisses have the passion of lovers meeting ...</td>\n",
       "      <td>His kisses are demonstrative and intense.</td>\n",
       "      <td>His kiss is unemotional.</td>\n",
       "      <td>0.0</td>\n",
       "    </tr>\n",
       "    <tr>\n",
       "      <th>3</th>\n",
       "      <td>His kisses have the passion of a couple in a l...</td>\n",
       "      <td>His kisses are demonstrative and intense.</td>\n",
       "      <td>His kiss is unemotional.</td>\n",
       "      <td>1.0</td>\n",
       "    </tr>\n",
       "    <tr>\n",
       "      <th>4</th>\n",
       "      <td>This winter is as cold as my mother-in-law tow...</td>\n",
       "      <td>It's very cold</td>\n",
       "      <td>It's pretty warm</td>\n",
       "      <td>0.0</td>\n",
       "    </tr>\n",
       "  </tbody>\n",
       "</table>\n",
       "</div>"
      ],
      "text/plain": [
       "                                         startphrase  \\\n",
       "0             Her word had the strength of titanium.   \n",
       "1         Her word had the strength of a wine glass.   \n",
       "2  His kisses have the passion of lovers meeting ...   \n",
       "3  His kisses have the passion of a couple in a l...   \n",
       "4  This winter is as cold as my mother-in-law tow...   \n",
       "\n",
       "                                     ending1                          ending2  \\\n",
       "0              Her promises can be believed.  Her promises cannot be trusted.   \n",
       "1              Her promises can be believed.  Her promises cannot be trusted.   \n",
       "2  His kisses are demonstrative and intense.         His kiss is unemotional.   \n",
       "3  His kisses are demonstrative and intense.         His kiss is unemotional.   \n",
       "4                             It's very cold                 It's pretty warm   \n",
       "\n",
       "   labels  \n",
       "0     0.0  \n",
       "1     1.0  \n",
       "2     0.0  \n",
       "3     1.0  \n",
       "4     0.0  "
      ]
     },
     "execution_count": 37,
     "metadata": {},
     "output_type": "execute_result"
    }
   ],
   "source": [
    "df_total.head()"
   ]
  },
  {
   "cell_type": "code",
   "execution_count": 38,
   "id": "8910cfd7",
   "metadata": {},
   "outputs": [
    {
     "name": "stdout",
     "output_type": "stream",
     "text": [
      "(1458, 4)\n",
      "(798, 4)\n",
      "(2256, 4)\n"
     ]
    }
   ],
   "source": [
    "print(df_original.shape)\n",
    "print(df.shape)\n",
    "print(df_total.shape)"
   ]
  },
  {
   "cell_type": "code",
   "execution_count": 40,
   "id": "30f1c473",
   "metadata": {},
   "outputs": [],
   "source": [
    "file = r'/projects/metis2/anubha/research/Multilingual-Fig-QA/data/exp6.2.2/'\n",
    "name = \"eng_sw\"\n",
    "df_total.to_csv(file+name+ \".csv\", index = False)"
   ]
  },
  {
   "cell_type": "code",
   "execution_count": null,
   "id": "a35b7ff0",
   "metadata": {},
   "outputs": [],
   "source": []
  }
 ],
 "metadata": {
  "kernelspec": {
   "display_name": "Python 3 (ipykernel)",
   "language": "python",
   "name": "python3"
  },
  "language_info": {
   "codemirror_mode": {
    "name": "ipython",
    "version": 3
   },
   "file_extension": ".py",
   "mimetype": "text/x-python",
   "name": "python",
   "nbconvert_exporter": "python",
   "pygments_lexer": "ipython3",
   "version": "3.10.8"
  }
 },
 "nbformat": 4,
 "nbformat_minor": 5
}
