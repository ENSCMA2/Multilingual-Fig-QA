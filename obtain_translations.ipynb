{
 "cells": [
  {
   "cell_type": "code",
   "execution_count": null,
   "metadata": {},
   "outputs": [],
   "source": [
    "# Install googletrans\n",
    "!pip install googletrans==3.1.0a0"
   ]
  },
  {
   "cell_type": "code",
   "execution_count": null,
   "metadata": {},
   "outputs": [],
   "source": [
    "# Import libraries\n",
    "from googletrans import Translator\n",
    "import pandas as pd\n",
    "from typing import List\n",
    "\n",
    "# Read dev file with annotations\n",
    "data = pd.read_csv('dev.csv')\n",
    "\n",
    "# Get first column of the dev file containing the startphrases (figurative language examples)\n",
    "startphrases = list(data.iloc[:, 0])"
   ]
  },
  {
   "cell_type": "code",
   "execution_count": null,
   "metadata": {},
   "outputs": [],
   "source": [
    "# Obtain translations of a list of strings\n",
    "def translate_list(text_list: List, source_language: str, target_language: str) -> List:\n",
    "    \"\"\"\n",
    "    Translate a list of strings from a source language to a target language.\n",
    "    :param text_list: List of strings to be translated\n",
    "    :param source_language: Source language\n",
    "    :param target_language: Target language\n",
    "    :return: List of translated strings\n",
    "    \"\"\"\n",
    "    translator = Translator()\n",
    "    translations = translator.translate(text_list, src=source_language, dest=target_language)\n",
    "    return [translation.text for translation in translations]\n"
   ]
  },
  {
   "cell_type": "code",
   "execution_count": null,
   "metadata": {},
   "outputs": [],
   "source": [
    "# Write a list of strings and their translations to a file\n",
    "def write_output(text_list: List, translations: List, filename: str):\n",
    "    \"\"\"\n",
    "    Write a list of strings and their translations to a file.\n",
    "    :param text: List of strings\n",
    "    :param translations: List of translations\n",
    "    :param filename: Name of the file\n",
    "    \"\"\"\n",
    "    with open(filename, 'w') as f:\n",
    "        for text, translation in zip(text_list, translations):\n",
    "            f.write(f'{text}\\t{translation}\\n')\n"
   ]
  },
  {
   "cell_type": "code",
   "execution_count": null,
   "metadata": {},
   "outputs": [],
   "source": [
    "# Translate startphrases from English to Hindi, French and Japanese\n",
    "languages = ['hi', 'fr', 'ja']\n",
    "for language in languages:\n",
    "    translations = translate_list(startphrases, 'en', language)\n",
    "    print(f'Obtained translations for {language}')\n",
    "    write_output(startphrases, translations, f'startphrases.{language}.tsv')"
   ]
  },
  {
   "cell_type": "code",
   "execution_count": null,
   "metadata": {},
   "outputs": [],
   "source": []
  }
 ],
 "metadata": {
  "kernelspec": {
   "display_name": "Python 3.9.12 ('base')",
   "language": "python",
   "name": "python3"
  },
  "language_info": {
   "codemirror_mode": {
    "name": "ipython",
    "version": 3
   },
   "file_extension": ".py",
   "mimetype": "text/x-python",
   "name": "python",
   "nbconvert_exporter": "python",
   "pygments_lexer": "ipython3",
   "version": "3.9.12"
  },
  "orig_nbformat": 4,
  "vscode": {
   "interpreter": {
    "hash": "90c20d38efd3ae60da76f049453b1b402f9b2018517288f78e6b44a89f0f034b"
   }
  }
 },
 "nbformat": 4,
 "nbformat_minor": 2
}
